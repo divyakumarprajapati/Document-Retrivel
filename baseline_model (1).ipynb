{
 "cells": [
  {
   "cell_type": "code",
   "execution_count": 1,
   "metadata": {
    "colab": {
     "base_uri": "https://localhost:8080/",
     "height": 34
    },
    "colab_type": "code",
    "id": "QXcUvM7f0xeM",
    "outputId": "aae7e05d-7ab5-454a-f420-d8537b897484"
   },
   "outputs": [
    {
     "name": "stdout",
     "output_type": "stream",
     "text": [
      "Note: you may need to restart the kernel to use updated packages.\n"
     ]
    },
    {
     "name": "stderr",
     "output_type": "stream",
     "text": [
      "'D:\\Users\\divyakumar.prajapati\\Anaconda' is not recognized as an internal or external command,\n",
      "operable program or batch file.\n"
     ]
    }
   ],
   "source": [
    "pip uninstall tensorflow"
   ]
  },
  {
   "cell_type": "code",
   "execution_count": 2,
   "metadata": {
    "colab": {
     "base_uri": "https://localhost:8080/",
     "height": 717
    },
    "colab_type": "code",
    "id": "73krk7O11t9M",
    "outputId": "d83cf699-a98d-4cec-883a-ea37d5841993"
   },
   "outputs": [
    {
     "name": "stdout",
     "output_type": "stream",
     "text": [
      "Note: you may need to restart the kernel to use updated packages.\n"
     ]
    },
    {
     "name": "stderr",
     "output_type": "stream",
     "text": [
      "'D:\\Users\\divyakumar.prajapati\\Anaconda' is not recognized as an internal or external command,\n",
      "operable program or batch file.\n"
     ]
    }
   ],
   "source": [
    "pip install tensorflow==2.1.0"
   ]
  },
  {
   "cell_type": "code",
   "execution_count": 1,
   "metadata": {
    "colab": {},
    "colab_type": "code",
    "id": "Cjtx_hztstL7"
   },
   "outputs": [],
   "source": [
    "import tensorflow as tf\n",
    "\n",
    "from collections import defaultdict\n",
    "import pandas as pd\n",
    "import numpy as np\n",
    "import os\n",
    "import json\n",
    "import pickle\n",
    "import sys\n",
    "import random\n",
    "import glob\n",
    "from sklearn import metrics,model_selection\n",
    "import csv\n",
    "from collections import Counter\n",
    "import warnings\n",
    "import string\n",
    "import re\n",
    "import nltk\n",
    "warnings.filterwarnings('ignore')\n",
    "warnings.simplefilter('ignore')\n"
   ]
  },
  {
   "cell_type": "code",
   "execution_count": 2,
   "metadata": {
    "colab": {},
    "colab_type": "code",
    "id": "m5W4HefsstMA"
   },
   "outputs": [],
   "source": [
    "MAX_DOCUMENT_LENGTH=100#128#100\n",
    "maxlen_word=20#5#20\n",
    "num_classes=4\n",
    "embedding_dims=100\n",
    "filters=250\n",
    "kernel_size = 3\n",
    "hidden_dims = 100\n",
    "batch_size=128#5"
   ]
  },
  {
   "cell_type": "code",
   "execution_count": 3,
   "metadata": {
    "colab": {},
    "colab_type": "code",
    "id": "uncPEy1zstME"
   },
   "outputs": [],
   "source": [
    "ann_dir= r\"D:\\Users\\divyakumar.prajapati\\Downloads\\train_sample.csv\" #set_combined_final\n",
    "\n",
    "duplicate_samples=1\n",
    "duplicate_samples_pos=1\n",
    "#n_files=60\n",
    "n_epoch=30\n",
    "f= open(\"report_sections_cnn_only_text_09_01_17_files_\"+\"_epoch_\"+str(n_epoch)+\".txt\",\"w\")\n",
    "#f.write(\"Number of files: \")\n",
    "#f.write(str(n_files))\n",
    "f.write(\"\\nNumber of epoch: \")\n",
    "f.write(str(n_epoch))\n",
    "f.write(\"\\n\")\n",
    "load_from_vector=False\n",
    "model_dir=\"cnn_only_text_section_header/\"\n",
    "\n",
    "if not os.path.exists(model_dir):\n",
    "    os.makedirs(model_dir)"
   ]
  },
  {
   "cell_type": "code",
   "execution_count": 4,
   "metadata": {
    "colab": {},
    "colab_type": "code",
    "id": "P2jwmkTBstMH"
   },
   "outputs": [],
   "source": [
    "sh_dataset = defaultdict(lambda : None)\n",
    "sh_dataset['target_names'] = ['Heading','Section Heading','Sub - Heading','Sub-Sub Heading']\n",
    "sh_dataset['target'] =[]\n",
    "sh_dataset['data'] =[]\n",
    "sh_dataset['layout'] =[]"
   ]
  },
  {
   "cell_type": "code",
   "execution_count": 5,
   "metadata": {
    "colab": {},
    "colab_type": "code",
    "id": "qgqDCIypstML"
   },
   "outputs": [],
   "source": [
    "with open(ann_dir, 'rt',encoding=\"utf8\") as csvfile:\n",
    "    reader = csv.DictReader(csvfile)\n",
    "    for row in reader:\n",
    "        for i in range(duplicate_samples):\n",
    "            if row['levels'] ==\"Heading\":\n",
    "                for j in range(duplicate_samples_pos):\n",
    "                    sh_dataset['target'].append(0)\n",
    "                    sh_dataset['data'].append(row['Text'])\n",
    "            elif row['levels'] ==\"Section Heading\":\n",
    "                for j in range(duplicate_samples_pos):\n",
    "                    sh_dataset['target'].append(1)  \n",
    "                    sh_dataset['data'].append(row['Text'])\n",
    "            elif row['levels'] ==\"Sub - Heading\":\n",
    "                for j in range(duplicate_samples_pos):\n",
    "                    sh_dataset['target'].append(2)  \n",
    "                    sh_dataset['data'].append(row['Text'])\n",
    "            elif row['levels'] ==\"Sub-Sub Heading\":\n",
    "                for j in range(duplicate_samples_pos):\n",
    "                    sh_dataset['target'].append(3)  \n",
    "                    sh_dataset['data'].append(row['Text'])"
   ]
  },
  {
   "cell_type": "code",
   "execution_count": 6,
   "metadata": {
    "colab": {},
    "colab_type": "code",
    "id": "jw6_TNrYstMO"
   },
   "outputs": [],
   "source": [
    "# training data\n",
    "training_dataset = defaultdict(lambda : None)\n",
    "training_dataset['target_names'] =['Heading','Section Heading','Sub - Heading','Sub-Sub Heading']\n",
    "training_dataset['target'] =[]\n",
    "training_dataset['data'] =[]"
   ]
  },
  {
   "cell_type": "code",
   "execution_count": 7,
   "metadata": {
    "colab": {
     "base_uri": "https://localhost:8080/",
     "height": 34
    },
    "colab_type": "code",
    "id": "nSIvTyrPstMR",
    "outputId": "4fd86e02-e06f-4c22-b049-3b8143f57627"
   },
   "outputs": [
    {
     "data": {
      "text/plain": [
       "10057"
      ]
     },
     "execution_count": 7,
     "metadata": {},
     "output_type": "execute_result"
    }
   ],
   "source": [
    "len(sh_dataset['data'])"
   ]
  },
  {
   "cell_type": "code",
   "execution_count": 8,
   "metadata": {
    "colab": {},
    "colab_type": "code",
    "id": "N_x6SsvJstMW"
   },
   "outputs": [],
   "source": [
    "pos_sample = min(sh_dataset['target'].count(0),sh_dataset['target'].count(1),sh_dataset['target'].count(2),sh_dataset['target'].count(3))\n",
    "\n",
    "count_top_sample=0\n",
    "count_sub_sample=0\n",
    "count_subsub_sample=0"
   ]
  },
  {
   "cell_type": "code",
   "execution_count": 9,
   "metadata": {
    "colab": {},
    "colab_type": "code",
    "id": "rCOXjF4kstMa"
   },
   "outputs": [],
   "source": [
    "for i in range(len(sh_dataset['target'])):\n",
    "    if sh_dataset['target'][i]==0:\n",
    "        if count_top_sample<pos_sample:\n",
    "            training_dataset['data'].append(sh_dataset['data'][i])\n",
    "            training_dataset['target'].append(sh_dataset['target'][i])\n",
    "            count_top_sample+=1\n",
    "\n",
    "    elif sh_dataset['target'][i]==1:\n",
    "        if count_sub_sample<pos_sample:\n",
    "            training_dataset['data'].append(sh_dataset['data'][i])\n",
    "            training_dataset['target'].append(sh_dataset['target'][i])\n",
    "            count_sub_sample+=1\n",
    "  \n",
    "    elif sh_dataset['target'][i]==2:\n",
    "        if count_sub_sample<pos_sample:\n",
    "            training_dataset['data'].append(sh_dataset['data'][i])\n",
    "            training_dataset['target'].append(sh_dataset['target'][i])\n",
    "            count_sub_sample+=1\n",
    "    else:\n",
    "        if count_subsub_sample<pos_sample:\n",
    "            training_dataset['data'].append(sh_dataset['data'][i])\n",
    "            training_dataset['target'].append(sh_dataset['target'][i])\n",
    "            count_subsub_sample+=1\n"
   ]
  },
  {
   "cell_type": "code",
   "execution_count": 10,
   "metadata": {
    "colab": {
     "base_uri": "https://localhost:8080/",
     "height": 34
    },
    "colab_type": "code",
    "id": "kL_C-G_2BFTY",
    "outputId": "8fccce7f-3f46-4bd6-e65e-1475588927eb"
   },
   "outputs": [
    {
     "data": {
      "text/plain": [
       "635"
      ]
     },
     "execution_count": 10,
     "metadata": {},
     "output_type": "execute_result"
    }
   ],
   "source": [
    "training_dataset['target'].count(1)"
   ]
  },
  {
   "cell_type": "code",
   "execution_count": 11,
   "metadata": {
    "colab": {},
    "colab_type": "code",
    "id": "cEGjT22ustMd"
   },
   "outputs": [],
   "source": [
    "training_dataset_ran = defaultdict(lambda : None)\n",
    "training_dataset_ran['target_names'] =['Heading','Section Heading','Sub - Heading','Sub-Sub Heading']\n",
    "training_dataset_ran['target'] =[]\n",
    "training_dataset_ran['data'] =[]"
   ]
  },
  {
   "cell_type": "code",
   "execution_count": 12,
   "metadata": {
    "colab": {},
    "colab_type": "code",
    "id": "CXzu5sD7stMi"
   },
   "outputs": [],
   "source": [
    "import random\n",
    "ran_index= random.sample(range(0, len(training_dataset['data'])), len(training_dataset['data']))\n",
    "for i in ran_index:\n",
    "    training_dataset_ran['data'].append(training_dataset['data'][i])\n",
    "    training_dataset_ran['target'].append(training_dataset['target'][i])"
   ]
  },
  {
   "cell_type": "code",
   "execution_count": 13,
   "metadata": {
    "colab": {},
    "colab_type": "code",
    "id": "RW20VXn5stMl"
   },
   "outputs": [],
   "source": [
    "del training_dataset   \n",
    "del sh_dataset"
   ]
  },
  {
   "cell_type": "code",
   "execution_count": 14,
   "metadata": {
    "colab": {
     "base_uri": "https://localhost:8080/",
     "height": 119
    },
    "colab_type": "code",
    "id": "1Ddo5VclstMo",
    "outputId": "fba3d8cb-6dfd-47dc-d94a-1c3de82fa09e"
   },
   "outputs": [
    {
     "name": "stdout",
     "output_type": "stream",
     "text": [
      "Training\n",
      "Heading 1435\n",
      "Section Heading 635\n",
      "Sub - Heading 800\n",
      "Sub-Sub Heading 1435\n"
     ]
    },
    {
     "data": {
      "text/plain": [
       "1"
      ]
     },
     "execution_count": 14,
     "metadata": {},
     "output_type": "execute_result"
    }
   ],
   "source": [
    "print(\"Training\")\n",
    "f.write(\"Training\\n\")\n",
    "print(\"Heading\",training_dataset_ran[\"target\"].count(0))\n",
    "f.write(\"Top samples \")\n",
    "f.write(str(training_dataset_ran[\"target\"].count(1)))\n",
    "f.write(\"\\n\")\n",
    "print(\"Section Heading\",training_dataset_ran[\"target\"].count(1))\n",
    "f.write(\"Top samples \")\n",
    "f.write(str(training_dataset_ran[\"target\"].count(1)))\n",
    "f.write(\"\\n\")\n",
    "print(\"Sub - Heading\",training_dataset_ran[\"target\"].count(2))\n",
    "f.write(\"Sub samples \")\n",
    "f.write(str(training_dataset_ran[\"target\"].count(2)))\n",
    "f.write(\"\\n\")\n",
    "print(\"Sub-Sub Heading\",training_dataset_ran[\"target\"].count(3))\n",
    "f.write(\"Subsub samples \")\n",
    "f.write(str(training_dataset_ran[\"target\"].count(3)))\n",
    "f.write(\"\\n\")"
   ]
  },
  {
   "cell_type": "code",
   "execution_count": 15,
   "metadata": {
    "colab": {},
    "colab_type": "code",
    "id": "mG5sXRmtstMs"
   },
   "outputs": [],
   "source": [
    "from sklearn.model_selection import train_test_split\n",
    "X_train, X_test, y_train, y_test = train_test_split(training_dataset_ran['data'],training_dataset_ran['target'], test_size=0.2)"
   ]
  },
  {
   "cell_type": "code",
   "execution_count": 16,
   "metadata": {
    "colab": {},
    "colab_type": "code",
    "id": "-t8JJw6wstMv"
   },
   "outputs": [],
   "source": [
    "df_train=pd.DataFrame({'line':X_train,'class':y_train})\n",
    "df_train.to_csv(model_dir+\"stratified_training_50\", sep='\\t',index=False, encoding='utf-8')\n",
    "\n",
    "df_test=pd.DataFrame({'line':X_test,'class':y_test})\n",
    "df_test.to_csv(model_dir+\"stratified_test_10\", sep='\\t',index=False, encoding='utf-8')"
   ]
  },
  {
   "cell_type": "code",
   "execution_count": 17,
   "metadata": {
    "colab": {
     "base_uri": "https://localhost:8080/",
     "height": 139
    },
    "colab_type": "code",
    "id": "ZtVygI4YstMy",
    "outputId": "dba1614c-75d6-4558-a0ae-ba0f8731e194"
   },
   "outputs": [
    {
     "name": "stdout",
     "output_type": "stream",
     "text": [
      "WARNING:tensorflow:From <ipython-input-17-f407583dd1e0>:2: ByteProcessor (from tensorflow.contrib.learn.python.learn.preprocessing.text) is deprecated and will be removed in a future version.\n",
      "Instructions for updating:\n",
      "Please use tensorflow/transform or tf.data.\n",
      "WARNING:tensorflow:From /usr/local/lib/python3.6/dist-packages/tensorflow/python/util/deprecation.py:324: ByteProcessor.__init__ (from tensorflow.contrib.learn.python.learn.preprocessing.text) is deprecated and will be removed in a future version.\n",
      "Instructions for updating:\n",
      "Please use tensorflow/transform or tf.data.\n"
     ]
    }
   ],
   "source": [
    "# Process vocabulary character level\n",
    "char_processor = learn.preprocessing.ByteProcessor(MAX_DOCUMENT_LENGTH)\n",
    "X_train_char = np.array(list(char_processor.fit_transform(X_train)))\n",
    "X_test_char = np.array(list(char_processor.transform(X_test)))"
   ]
  },
  {
   "cell_type": "code",
   "execution_count": 18,
   "metadata": {
    "colab": {
     "base_uri": "https://localhost:8080/",
     "height": 190
    },
    "colab_type": "code",
    "id": "RGY2im5fstM3",
    "outputId": "610b2e05-1913-4178-cc92-062c0e2da2a2"
   },
   "outputs": [
    {
     "name": "stdout",
     "output_type": "stream",
     "text": [
      "WARNING:tensorflow:From <ipython-input-18-e97daf19cab7>:2: VocabularyProcessor.__init__ (from tensorflow.contrib.learn.python.learn.preprocessing.text) is deprecated and will be removed in a future version.\n",
      "Instructions for updating:\n",
      "Please use tensorflow/transform or tf.data.\n",
      "WARNING:tensorflow:From /usr/local/lib/python3.6/dist-packages/tensorflow/contrib/learn/python/learn/preprocessing/text.py:154: CategoricalVocabulary.__init__ (from tensorflow.contrib.learn.python.learn.preprocessing.categorical_vocabulary) is deprecated and will be removed in a future version.\n",
      "Instructions for updating:\n",
      "Please use tensorflow/transform or tf.data.\n",
      "WARNING:tensorflow:From /usr/local/lib/python3.6/dist-packages/tensorflow/contrib/learn/python/learn/preprocessing/text.py:170: tokenizer (from tensorflow.contrib.learn.python.learn.preprocessing.text) is deprecated and will be removed in a future version.\n",
      "Instructions for updating:\n",
      "Please use tensorflow/transform or tf.data.\n"
     ]
    }
   ],
   "source": [
    "# Process vocabulary world level\n",
    "vocab_processor = tf.contrib.learn.preprocessing.VocabularyProcessor(maxlen_word,min_frequency=100)\n",
    "X_train_word = np.array(list(vocab_processor.fit_transform(X_train)))\n",
    "X_test_word = np.array(list(vocab_processor.transform(X_test)))"
   ]
  },
  {
   "cell_type": "code",
   "execution_count": 19,
   "metadata": {
    "colab": {},
    "colab_type": "code",
    "id": "BQFMOky2stM8"
   },
   "outputs": [],
   "source": [
    "# #Class labels to categorical value\n",
    "# y_train = keras.utils.to_categorical(y_train,num_classes=num_classes)\n",
    "# y_test = keras.utils.to_categorical(y_test,num_classes=num_classes)"
   ]
  },
  {
   "cell_type": "code",
   "execution_count": 20,
   "metadata": {
    "colab": {},
    "colab_type": "code",
    "id": "MZkBsQl_stM_"
   },
   "outputs": [],
   "source": [
    "max_words = len(vocab_processor.vocabulary_)\n",
    "max_char = 256"
   ]
  },
  {
   "cell_type": "code",
   "execution_count": 21,
   "metadata": {
    "colab": {
     "base_uri": "https://localhost:8080/",
     "height": 51
    },
    "colab_type": "code",
    "id": "gW-b6k-NstNB",
    "outputId": "af2f9a96-9361-4bcb-ff7e-988dd7f9cb6d"
   },
   "outputs": [
    {
     "name": "stdout",
     "output_type": "stream",
     "text": [
      "15\n",
      "256\n"
     ]
    }
   ],
   "source": [
    "print(max_words)\n",
    "print(max_char)"
   ]
  },
  {
   "cell_type": "code",
   "execution_count": 22,
   "metadata": {
    "colab": {
     "base_uri": "https://localhost:8080/",
     "height": 139
    },
    "colab_type": "code",
    "id": "lHgVfy9astNE",
    "outputId": "a89c1f80-5649-472b-b060-399e4228ba67"
   },
   "outputs": [
    {
     "name": "stdout",
     "output_type": "stream",
     "text": [
      "WARNING:tensorflow:From /usr/local/lib/python3.6/dist-packages/tensorflow/python/ops/resource_variable_ops.py:435: colocate_with (from tensorflow.python.framework.ops) is deprecated and will be removed in a future version.\n",
      "Instructions for updating:\n",
      "Colocations handled automatically by placer.\n",
      "WARNING:tensorflow:From /usr/local/lib/python3.6/dist-packages/tensorflow/python/keras/layers/core.py:143: calling dropout (from tensorflow.python.ops.nn_ops) with keep_prob is deprecated and will be removed in a future version.\n",
      "Instructions for updating:\n",
      "Please use `rate` instead of `keep_prob`. Rate should be set to `rate = 1 - keep_prob`.\n"
     ]
    }
   ],
   "source": [
    "# char_CNN\n",
    "input_char =  layers.Input(shape=(MAX_DOCUMENT_LENGTH,), name = 'input_char')\n",
    "\n",
    "embedding_char= layers.Embedding(max_char,embedding_dims,input_length=MAX_DOCUMENT_LENGTH)(input_char)\n",
    "dropout1_char = layers.Dropout(0.2)(embedding_char)\n",
    "\n",
    "conv1D_char = layers.Conv1D(filters,\n",
    "                 kernel_size,\n",
    "                 padding='valid',\n",
    "                 activation='relu',\n",
    "                 strides=1)(dropout1_char)\n",
    "\n",
    "globalMaxPooling1_char= layers.GlobalMaxPooling1D()(conv1D_char)\n",
    "\n",
    "dense_hidden_char = layers.Dense(hidden_dims)(globalMaxPooling1_char)\n",
    "dropout2_char = layers.Dropout(0.2)(dense_hidden_char)\n",
    "activation_char= layers.Activation('relu')(dropout2_char)"
   ]
  },
  {
   "cell_type": "code",
   "execution_count": 23,
   "metadata": {
    "colab": {},
    "colab_type": "code",
    "id": "Zrzly-W4stNH"
   },
   "outputs": [],
   "source": [
    "main_output = layers.Dense(num_classes, activation='softmax', name='main_output')(activation_char)"
   ]
  },
  {
   "cell_type": "code",
   "execution_count": 24,
   "metadata": {
    "colab": {},
    "colab_type": "code",
    "id": "uIkcPC3EstNK"
   },
   "outputs": [],
   "source": [
    "model = models.Model(inputs=[input_char], outputs=[main_output])"
   ]
  },
  {
   "cell_type": "code",
   "execution_count": 25,
   "metadata": {
    "colab": {
     "base_uri": "https://localhost:8080/",
     "height": 459
    },
    "colab_type": "code",
    "id": "8s5yJk89stNN",
    "outputId": "0e78c324-cead-46a9-fc55-55427d88a919"
   },
   "outputs": [
    {
     "name": "stdout",
     "output_type": "stream",
     "text": [
      "_________________________________________________________________\n",
      "Layer (type)                 Output Shape              Param #   \n",
      "=================================================================\n",
      "input_char (InputLayer)      (None, 100)               0         \n",
      "_________________________________________________________________\n",
      "embedding (Embedding)        (None, 100, 100)          25600     \n",
      "_________________________________________________________________\n",
      "dropout (Dropout)            (None, 100, 100)          0         \n",
      "_________________________________________________________________\n",
      "conv1d (Conv1D)              (None, 98, 250)           75250     \n",
      "_________________________________________________________________\n",
      "global_max_pooling1d (Global (None, 250)               0         \n",
      "_________________________________________________________________\n",
      "dense (Dense)                (None, 100)               25100     \n",
      "_________________________________________________________________\n",
      "dropout_1 (Dropout)          (None, 100)               0         \n",
      "_________________________________________________________________\n",
      "activation (Activation)      (None, 100)               0         \n",
      "_________________________________________________________________\n",
      "main_output (Dense)          (None, 4)                 404       \n",
      "=================================================================\n",
      "Total params: 126,354\n",
      "Trainable params: 126,354\n",
      "Non-trainable params: 0\n",
      "_________________________________________________________________\n",
      "None\n"
     ]
    }
   ],
   "source": [
    "model.compile(loss='sparse_categorical_crossentropy',\n",
    "              optimizer='adam',\n",
    "              metrics=['accuracy'])\n",
    "\n",
    "print(model.summary())"
   ]
  },
  {
   "cell_type": "code",
   "execution_count": 26,
   "metadata": {
    "colab": {},
    "colab_type": "code",
    "id": "W_TKx4ScstNQ"
   },
   "outputs": [],
   "source": [
    "filepath=model_dir+\"weights-improvement-{epoch:02d}-{val_acc:.9f}.hdf5\"\n",
    "checkpoint = callbacks.ModelCheckpoint(filepath, monitor='val_acc', verbose=1, save_best_only=True, mode='max')\n",
    "history = callbacks.History()"
   ]
  },
  {
   "cell_type": "code",
   "execution_count": 27,
   "metadata": {
    "colab": {
     "base_uri": "https://localhost:8080/",
     "height": 1000
    },
    "colab_type": "code",
    "id": "vGkGobu-stNT",
    "outputId": "3c78f4a0-2fa1-443f-d5aa-20196f73a552"
   },
   "outputs": [
    {
     "name": "stdout",
     "output_type": "stream",
     "text": [
      "Train on 3444 samples, validate on 861 samples\n",
      "WARNING:tensorflow:From /usr/local/lib/python3.6/dist-packages/tensorflow/python/ops/math_ops.py:3066: to_int32 (from tensorflow.python.ops.math_ops) is deprecated and will be removed in a future version.\n",
      "Instructions for updating:\n",
      "Use tf.cast instead.\n",
      "WARNING:tensorflow:From /usr/local/lib/python3.6/dist-packages/tensorflow/python/ops/math_grad.py:102: div (from tensorflow.python.ops.math_ops) is deprecated and will be removed in a future version.\n",
      "Instructions for updating:\n",
      "Deprecated in favor of operator or tf.math.divide.\n",
      "Epoch 1/30\n",
      "3328/3444 [===========================>..] - ETA: 0s - loss: 1.1395 - acc: 0.5532\n",
      "Epoch 00001: val_acc improved from -inf to 0.61556, saving model to cnn_only_text_section_header/weights-improvement-01-0.615563273.hdf5\n",
      "3444/3444 [==============================] - 7s 2ms/sample - loss: 1.1350 - acc: 0.5528 - val_loss: 0.8815 - val_acc: 0.6156\n",
      "Epoch 2/30\n",
      "3328/3444 [===========================>..] - ETA: 0s - loss: 0.8336 - acc: 0.6475\n",
      "Epoch 00002: val_acc improved from 0.61556 to 0.69686, saving model to cnn_only_text_section_header/weights-improvement-02-0.696864128.hdf5\n",
      "3444/3444 [==============================] - 7s 2ms/sample - loss: 0.8332 - acc: 0.6478 - val_loss: 0.7448 - val_acc: 0.6969\n",
      "Epoch 3/30\n",
      "3328/3444 [===========================>..] - ETA: 0s - loss: 0.7274 - acc: 0.6941\n",
      "Epoch 00003: val_acc improved from 0.69686 to 0.70848, saving model to cnn_only_text_section_header/weights-improvement-03-0.708478510.hdf5\n",
      "3444/3444 [==============================] - 7s 2ms/sample - loss: 0.7261 - acc: 0.6957 - val_loss: 0.6983 - val_acc: 0.7085\n",
      "Epoch 4/30\n",
      "3328/3444 [===========================>..] - ETA: 0s - loss: 0.6900 - acc: 0.7145\n",
      "Epoch 00004: val_acc improved from 0.70848 to 0.72358, saving model to cnn_only_text_section_header/weights-improvement-04-0.723577261.hdf5\n",
      "3444/3444 [==============================] - 7s 2ms/sample - loss: 0.6886 - acc: 0.7157 - val_loss: 0.6648 - val_acc: 0.7236\n",
      "Epoch 5/30\n",
      "3328/3444 [===========================>..] - ETA: 0s - loss: 0.6442 - acc: 0.7272\n",
      "Epoch 00005: val_acc did not improve from 0.72358\n",
      "3444/3444 [==============================] - 7s 2ms/sample - loss: 0.6446 - acc: 0.7271 - val_loss: 0.6417 - val_acc: 0.7178\n",
      "Epoch 6/30\n",
      "3328/3444 [===========================>..] - ETA: 0s - loss: 0.6096 - acc: 0.7434\n",
      "Epoch 00006: val_acc improved from 0.72358 to 0.74100, saving model to cnn_only_text_section_header/weights-improvement-06-0.740998864.hdf5\n",
      "3444/3444 [==============================] - 7s 2ms/sample - loss: 0.6113 - acc: 0.7425 - val_loss: 0.6177 - val_acc: 0.7410\n",
      "Epoch 7/30\n",
      "3328/3444 [===========================>..] - ETA: 0s - loss: 0.5815 - acc: 0.7629\n",
      "Epoch 00007: val_acc improved from 0.74100 to 0.75261, saving model to cnn_only_text_section_header/weights-improvement-07-0.752613246.hdf5\n",
      "3444/3444 [==============================] - 7s 2ms/sample - loss: 0.5841 - acc: 0.7616 - val_loss: 0.5996 - val_acc: 0.7526\n",
      "Epoch 8/30\n",
      "3328/3444 [===========================>..] - ETA: 0s - loss: 0.5591 - acc: 0.7728\n",
      "Epoch 00008: val_acc did not improve from 0.75261\n",
      "3444/3444 [==============================] - 7s 2ms/sample - loss: 0.5597 - acc: 0.7709 - val_loss: 0.6012 - val_acc: 0.7305\n",
      "Epoch 9/30\n",
      "3328/3444 [===========================>..] - ETA: 0s - loss: 0.5325 - acc: 0.7840\n",
      "Epoch 00009: val_acc improved from 0.75261 to 0.76539, saving model to cnn_only_text_section_header/weights-improvement-09-0.765389085.hdf5\n",
      "3444/3444 [==============================] - 7s 2ms/sample - loss: 0.5325 - acc: 0.7834 - val_loss: 0.5798 - val_acc: 0.7654\n",
      "Epoch 10/30\n",
      "3328/3444 [===========================>..] - ETA: 0s - loss: 0.5007 - acc: 0.7975\n",
      "Epoch 00010: val_acc improved from 0.76539 to 0.76887, saving model to cnn_only_text_section_header/weights-improvement-10-0.768873394.hdf5\n",
      "3444/3444 [==============================] - 7s 2ms/sample - loss: 0.5023 - acc: 0.7956 - val_loss: 0.5690 - val_acc: 0.7689\n",
      "Epoch 11/30\n",
      "3328/3444 [===========================>..] - ETA: 0s - loss: 0.4800 - acc: 0.8023\n",
      "Epoch 00011: val_acc did not improve from 0.76887\n",
      "3444/3444 [==============================] - 7s 2ms/sample - loss: 0.4819 - acc: 0.8008 - val_loss: 0.5625 - val_acc: 0.7689\n",
      "Epoch 12/30\n",
      "3328/3444 [===========================>..] - ETA: 0s - loss: 0.4589 - acc: 0.8161\n",
      "Epoch 00012: val_acc improved from 0.76887 to 0.77352, saving model to cnn_only_text_section_header/weights-improvement-12-0.773519158.hdf5\n",
      "3444/3444 [==============================] - 7s 2ms/sample - loss: 0.4596 - acc: 0.8159 - val_loss: 0.5844 - val_acc: 0.7735\n",
      "Epoch 13/30\n",
      "3328/3444 [===========================>..] - ETA: 0s - loss: 0.4513 - acc: 0.8119\n",
      "Epoch 00013: val_acc did not improve from 0.77352\n",
      "3444/3444 [==============================] - 7s 2ms/sample - loss: 0.4548 - acc: 0.8101 - val_loss: 0.5534 - val_acc: 0.7735\n",
      "Epoch 14/30\n",
      "3328/3444 [===========================>..] - ETA: 0s - loss: 0.4235 - acc: 0.8269\n",
      "Epoch 00014: val_acc did not improve from 0.77352\n",
      "3444/3444 [==============================] - 7s 2ms/sample - loss: 0.4229 - acc: 0.8275 - val_loss: 0.5640 - val_acc: 0.7735\n",
      "Epoch 15/30\n",
      "3328/3444 [===========================>..] - ETA: 0s - loss: 0.4086 - acc: 0.8395\n",
      "Epoch 00015: val_acc did not improve from 0.77352\n",
      "3444/3444 [==============================] - 7s 2ms/sample - loss: 0.4083 - acc: 0.8383 - val_loss: 0.5619 - val_acc: 0.7654\n",
      "Epoch 16/30\n",
      "3328/3444 [===========================>..] - ETA: 0s - loss: 0.3948 - acc: 0.8428\n",
      "Epoch 00016: val_acc improved from 0.77352 to 0.78281, saving model to cnn_only_text_section_header/weights-improvement-16-0.782810688.hdf5\n",
      "3444/3444 [==============================] - 7s 2ms/sample - loss: 0.3917 - acc: 0.8438 - val_loss: 0.5685 - val_acc: 0.7828\n",
      "Epoch 17/30\n",
      "3328/3444 [===========================>..] - ETA: 0s - loss: 0.3778 - acc: 0.8477\n",
      "Epoch 00017: val_acc did not improve from 0.78281\n",
      "3444/3444 [==============================] - 7s 2ms/sample - loss: 0.3742 - acc: 0.8490 - val_loss: 0.5588 - val_acc: 0.7782\n",
      "Epoch 18/30\n",
      "3328/3444 [===========================>..] - ETA: 0s - loss: 0.3741 - acc: 0.8489\n",
      "Epoch 00018: val_acc did not improve from 0.78281\n",
      "3444/3444 [==============================] - 7s 2ms/sample - loss: 0.3730 - acc: 0.8490 - val_loss: 0.5651 - val_acc: 0.7793\n",
      "Epoch 19/30\n",
      "3328/3444 [===========================>..] - ETA: 0s - loss: 0.3532 - acc: 0.8627\n",
      "Epoch 00019: val_acc did not improve from 0.78281\n",
      "3444/3444 [==============================] - 7s 2ms/sample - loss: 0.3522 - acc: 0.8627 - val_loss: 0.5739 - val_acc: 0.7666\n",
      "Epoch 20/30\n",
      "3328/3444 [===========================>..] - ETA: 0s - loss: 0.3411 - acc: 0.8621\n",
      "Epoch 00020: val_acc did not improve from 0.78281\n",
      "3444/3444 [==============================] - 7s 2ms/sample - loss: 0.3453 - acc: 0.8592 - val_loss: 0.5768 - val_acc: 0.7793\n",
      "Epoch 21/30\n",
      "3328/3444 [===========================>..] - ETA: 0s - loss: 0.3392 - acc: 0.8648\n",
      "Epoch 00021: val_acc improved from 0.78281 to 0.78629, saving model to cnn_only_text_section_header/weights-improvement-21-0.786294997.hdf5\n",
      "3444/3444 [==============================] - 7s 2ms/sample - loss: 0.3401 - acc: 0.8638 - val_loss: 0.5760 - val_acc: 0.7863\n",
      "Epoch 22/30\n",
      "3328/3444 [===========================>..] - ETA: 0s - loss: 0.3276 - acc: 0.8771\n",
      "Epoch 00022: val_acc did not improve from 0.78629\n",
      "3444/3444 [==============================] - 7s 2ms/sample - loss: 0.3279 - acc: 0.8760 - val_loss: 0.5863 - val_acc: 0.7805\n",
      "Epoch 23/30\n",
      "3328/3444 [===========================>..] - ETA: 0s - loss: 0.3106 - acc: 0.8753\n",
      "Epoch 00023: val_acc did not improve from 0.78629\n",
      "3444/3444 [==============================] - 7s 2ms/sample - loss: 0.3126 - acc: 0.8749 - val_loss: 0.6119 - val_acc: 0.7758\n",
      "Epoch 24/30\n",
      "3328/3444 [===========================>..] - ETA: 0s - loss: 0.3121 - acc: 0.8696\n",
      "Epoch 00024: val_acc did not improve from 0.78629\n",
      "3444/3444 [==============================] - 7s 2ms/sample - loss: 0.3128 - acc: 0.8690 - val_loss: 0.5935 - val_acc: 0.7840\n",
      "Epoch 25/30\n",
      "3328/3444 [===========================>..] - ETA: 0s - loss: 0.2976 - acc: 0.8819\n",
      "Epoch 00025: val_acc did not improve from 0.78629\n",
      "3444/3444 [==============================] - 7s 2ms/sample - loss: 0.2972 - acc: 0.8827 - val_loss: 0.5842 - val_acc: 0.7840\n",
      "Epoch 26/30\n",
      "3328/3444 [===========================>..] - ETA: 0s - loss: 0.2932 - acc: 0.8825\n",
      "Epoch 00026: val_acc did not improve from 0.78629\n",
      "3444/3444 [==============================] - 7s 2ms/sample - loss: 0.2933 - acc: 0.8827 - val_loss: 0.5974 - val_acc: 0.7724\n",
      "Epoch 27/30\n",
      "3328/3444 [===========================>..] - ETA: 0s - loss: 0.2836 - acc: 0.8810\n",
      "Epoch 00027: val_acc did not improve from 0.78629\n",
      "3444/3444 [==============================] - 7s 2ms/sample - loss: 0.2849 - acc: 0.8810 - val_loss: 0.6225 - val_acc: 0.7619\n",
      "Epoch 28/30\n",
      "3328/3444 [===========================>..] - ETA: 0s - loss: 0.2867 - acc: 0.8792\n",
      "Epoch 00028: val_acc improved from 0.78629 to 0.78746, saving model to cnn_only_text_section_header/weights-improvement-28-0.787456453.hdf5\n",
      "3444/3444 [==============================] - 7s 2ms/sample - loss: 0.2848 - acc: 0.8807 - val_loss: 0.6108 - val_acc: 0.7875\n",
      "Epoch 29/30\n",
      "3328/3444 [===========================>..] - ETA: 0s - loss: 0.2755 - acc: 0.8903\n",
      "Epoch 00029: val_acc did not improve from 0.78746\n",
      "3444/3444 [==============================] - 7s 2ms/sample - loss: 0.2796 - acc: 0.8868 - val_loss: 0.6354 - val_acc: 0.7561\n",
      "Epoch 30/30\n",
      "3328/3444 [===========================>..] - ETA: 0s - loss: 0.2815 - acc: 0.8870\n",
      "Epoch 00030: val_acc did not improve from 0.78746\n",
      "3444/3444 [==============================] - 7s 2ms/sample - loss: 0.2800 - acc: 0.8879 - val_loss: 0.6249 - val_acc: 0.7816\n"
     ]
    },
    {
     "data": {
      "text/plain": [
       "<tensorflow.python.keras.callbacks.History at 0x7fee1809df98>"
      ]
     },
     "execution_count": 27,
     "metadata": {
      "tags": []
     },
     "output_type": "execute_result"
    }
   ],
   "source": [
    "model.fit(X_train_char, y_train,\n",
    "          batch_size=batch_size,shuffle=True,\n",
    "          epochs=n_epoch,verbose=1,\n",
    "          validation_data=(X_test_char, y_test),callbacks=[checkpoint,history])"
   ]
  },
  {
   "cell_type": "code",
   "execution_count": 28,
   "metadata": {
    "colab": {},
    "colab_type": "code",
    "id": "JE1JeqWHstNW"
   },
   "outputs": [],
   "source": [
    "#confusion matrix\n",
    "from sklearn.metrics import classification_report, confusion_matrix\n",
    "yhat_probs = model.predict(X_test_char, verbose=0)"
   ]
  },
  {
   "cell_type": "code",
   "execution_count": 29,
   "metadata": {
    "colab": {},
    "colab_type": "code",
    "id": "-OnAq7xystNZ"
   },
   "outputs": [],
   "source": [
    "y_pred = []\n",
    "for i in np.arange(len(yhat_probs)):\n",
    "    y_pred.append(np.argmax(yhat_probs[i]))"
   ]
  },
  {
   "cell_type": "code",
   "execution_count": 30,
   "metadata": {
    "colab": {
     "base_uri": "https://localhost:8080/",
     "height": 85
    },
    "colab_type": "code",
    "id": "9cF4VrYYstNc",
    "outputId": "56150a81-1e96-4790-b42f-5e9c451af370"
   },
   "outputs": [
    {
     "data": {
      "text/plain": [
       "array([[281,   6,   2,   4],\n",
       "       [  2,  93,  16,  20],\n",
       "       [  2,  26,  57,  70],\n",
       "       [  0,  18,  22, 242]])"
      ]
     },
     "execution_count": 30,
     "metadata": {
      "tags": []
     },
     "output_type": "execute_result"
    }
   ],
   "source": [
    "cm = confusion_matrix(y_test, y_pred)\n",
    "cm"
   ]
  },
  {
   "cell_type": "code",
   "execution_count": 31,
   "metadata": {
    "colab": {
     "base_uri": "https://localhost:8080/",
     "height": 204
    },
    "colab_type": "code",
    "id": "OuAjkpgXstNe",
    "outputId": "c70414de-0d8b-47b4-f0f1-c6b339d0f7b6"
   },
   "outputs": [
    {
     "name": "stdout",
     "output_type": "stream",
     "text": [
      "              precision    recall  f1-score   support\n",
      "\n",
      "           0       0.99      0.96      0.97       293\n",
      "           1       0.65      0.71      0.68       131\n",
      "           2       0.59      0.37      0.45       155\n",
      "           3       0.72      0.86      0.78       282\n",
      "\n",
      "    accuracy                           0.78       861\n",
      "   macro avg       0.74      0.72      0.72       861\n",
      "weighted avg       0.78      0.78      0.77       861\n",
      "\n"
     ]
    }
   ],
   "source": [
    "print(classification_report(y_test, y_pred))"
   ]
  },
  {
   "cell_type": "code",
   "execution_count": 33,
   "metadata": {
    "colab": {},
    "colab_type": "code",
    "id": "xdwLLvMAstNi"
   },
   "outputs": [],
   "source": [
    "model.load_weights('/content/cnn_only_text_section_header/weights-improvement-28-0.787456453.hdf5')"
   ]
  },
  {
   "cell_type": "code",
   "execution_count": 34,
   "metadata": {
    "colab": {
     "base_uri": "https://localhost:8080/",
     "height": 204
    },
    "colab_type": "code",
    "id": "jZ0uifzUstNk",
    "outputId": "112d50c8-65f3-4379-936b-07b6d12cd3ef"
   },
   "outputs": [
    {
     "name": "stdout",
     "output_type": "stream",
     "text": [
      "              precision    recall  f1-score   support\n",
      "\n",
      "           0       0.99      0.96      0.97       293\n",
      "           1       0.65      0.71      0.68       131\n",
      "           2       0.59      0.37      0.45       155\n",
      "           3       0.72      0.86      0.78       282\n",
      "\n",
      "    accuracy                           0.78       861\n",
      "   macro avg       0.74      0.72      0.72       861\n",
      "weighted avg       0.78      0.78      0.77       861\n",
      "\n"
     ]
    }
   ],
   "source": [
    "print(classification_report(y_test, y_pred))"
   ]
  },
  {
   "cell_type": "code",
   "execution_count": null,
   "metadata": {
    "colab": {},
    "colab_type": "code",
    "id": "IeXyr6NTstNn"
   },
   "outputs": [],
   "source": [
    "X_test"
   ]
  },
  {
   "cell_type": "code",
   "execution_count": null,
   "metadata": {
    "colab": {},
    "colab_type": "code",
    "id": "on0u7IpkstNq"
   },
   "outputs": [],
   "source": [
    "testt = pd.read_csv('data/validation_file.csv')"
   ]
  },
  {
   "cell_type": "code",
   "execution_count": null,
   "metadata": {
    "colab": {},
    "colab_type": "code",
    "id": "KCuBqG57stNs"
   },
   "outputs": [],
   "source": [
    "X_test_charr = np.array(list(char_processor.transform(testt.Text.tolist())))"
   ]
  },
  {
   "cell_type": "code",
   "execution_count": null,
   "metadata": {
    "colab": {},
    "colab_type": "code",
    "id": "ac_fE1AostNv"
   },
   "outputs": [],
   "source": [
    "yhat_probss = model.predict(X_test_charr, verbose=0)"
   ]
  },
  {
   "cell_type": "code",
   "execution_count": null,
   "metadata": {
    "colab": {},
    "colab_type": "code",
    "id": "pGXhVOVdstNy"
   },
   "outputs": [],
   "source": [
    "y_predd = []\n",
    "for i in np.arange(len(yhat_probss)):\n",
    "    y_predd.append(np.argmax(yhat_probss[i]))"
   ]
  },
  {
   "cell_type": "code",
   "execution_count": null,
   "metadata": {
    "colab": {},
    "colab_type": "code",
    "id": "crP0cjTlstN1"
   },
   "outputs": [],
   "source": [
    "tst = testt.Heading_level.tolist()\n",
    "for n, i in enumerate(tst):\n",
    "    if i == 1:\n",
    "        tst[n] = 0\n",
    "    elif i == 2:\n",
    "        tst[n] = 1\n",
    "    elif i == 3:\n",
    "        tst[n] = 2\n",
    "    else:\n",
    "        tst[n] = 3"
   ]
  },
  {
   "cell_type": "code",
   "execution_count": null,
   "metadata": {
    "colab": {},
    "colab_type": "code",
    "id": "xay5fwE8stN4"
   },
   "outputs": [],
   "source": [
    "cm = confusion_matrix(tst, y_predd)\n",
    "cm"
   ]
  },
  {
   "cell_type": "code",
   "execution_count": null,
   "metadata": {
    "colab": {},
    "colab_type": "code",
    "id": "tFgXgs43stN6"
   },
   "outputs": [],
   "source": [
    "print(classification_report(tst, y_predd))"
   ]
  },
  {
   "cell_type": "code",
   "execution_count": null,
   "metadata": {
    "colab": {},
    "colab_type": "code",
    "id": "a36AoKfMstOB"
   },
   "outputs": [],
   "source": []
  },
  {
   "cell_type": "markdown",
   "metadata": {
    "colab_type": "text",
    "id": "jbGIJ7l45JrG"
   },
   "source": [
    "Bert model"
   ]
  },
  {
   "cell_type": "code",
   "execution_count": 19,
   "metadata": {
    "colab": {
     "base_uri": "https://localhost:8080/",
     "height": 1000
    },
    "colab_type": "code",
    "id": "-zDkI96x5L7q",
    "outputId": "212a5471-c3ed-4287-be4e-359bdf31037c"
   },
   "outputs": [
    {
     "name": "stdout",
     "output_type": "stream",
     "text": [
      "Note: you may need to restart the kernel to use updated packages.\n"
     ]
    },
    {
     "name": "stderr",
     "output_type": "stream",
     "text": [
      "'D:\\Users\\divyakumar.prajapati\\Anaconda' is not recognized as an internal or external command,\n",
      "operable program or batch file.\n"
     ]
    }
   ],
   "source": [
    "pip install ktrain"
   ]
  },
  {
   "cell_type": "code",
   "execution_count": 17,
   "metadata": {
    "colab": {},
    "colab_type": "code",
    "id": "09GXeX496gz9"
   },
   "outputs": [],
   "source": [
    "import ktrain\n",
    "from ktrain import text"
   ]
  },
  {
   "cell_type": "code",
   "execution_count": 18,
   "metadata": {
    "colab": {},
    "colab_type": "code",
    "id": "nbh29aWMAeIg"
   },
   "outputs": [],
   "source": [
    "train = pd.DataFrame()\n",
    "train['text'] = training_dataset_ran['data']\n",
    "train['target'] = training_dataset_ran['target']"
   ]
  },
  {
   "cell_type": "code",
   "execution_count": 19,
   "metadata": {
    "colab": {},
    "colab_type": "code",
    "id": "fWym9klrZsTO"
   },
   "outputs": [],
   "source": [
    "import numpy as np\n",
    "\n",
    "from sklearn.preprocessing import OneHotEncoder\n",
    "enc = OneHotEncoder()\n",
    "X = np.array(train['target'])\n",
    "c = enc.fit_transform([X])"
   ]
  },
  {
   "cell_type": "code",
   "execution_count": 20,
   "metadata": {
    "colab": {},
    "colab_type": "code",
    "id": "3MlaHadMhDxW"
   },
   "outputs": [],
   "source": [
    "dummies1 = pd.get_dummies(train.iloc[:, 1])"
   ]
  },
  {
   "cell_type": "code",
   "execution_count": 21,
   "metadata": {
    "colab": {},
    "colab_type": "code",
    "id": "hQnd0NxElFGJ"
   },
   "outputs": [],
   "source": [
    "train_s = pd.DataFrame()\n",
    "train_s['text'] = train['text']\n",
    "train_s['0'] = dummies1.iloc[:, 0]\n",
    "train_s['1'] = dummies1.iloc[:, 1]\n",
    "train_s['2'] = dummies1.iloc[:, 2]\n",
    "train_s['3'] = dummies1.iloc[:, 3]"
   ]
  },
  {
   "cell_type": "code",
   "execution_count": 24,
   "metadata": {
    "colab": {
     "base_uri": "https://localhost:8080/",
     "height": 136
    },
    "colab_type": "code",
    "id": "BZ1IwUvD6hhO",
    "outputId": "b343a7b1-2b9b-4a20-f4cc-b2801d87553c"
   },
   "outputs": [
    {
     "name": "stdout",
     "output_type": "stream",
     "text": [
      "downloading pretrained BERT model (uncased_L-12_H-768_A-12.zip)...\n",
      "[██████████████████████████████████████████████████]\n",
      "extracting pretrained BERT model...\n",
      "done.\n",
      "\n",
      "cleanup downloaded zip...\n",
      "done.\n",
      "\n",
      "preprocessing train...\n",
      "language: en\n"
     ]
    },
    {
     "data": {
      "text/html": [
       "done."
      ],
      "text/plain": [
       "<IPython.core.display.HTML object>"
      ]
     },
     "metadata": {},
     "output_type": "display_data"
    },
    {
     "name": "stdout",
     "output_type": "stream",
     "text": [
      "Is Multi-Label? False\n",
      "preprocessing test...\n",
      "language: en\n"
     ]
    },
    {
     "data": {
      "text/html": [
       "done."
      ],
      "text/plain": [
       "<IPython.core.display.HTML object>"
      ]
     },
     "metadata": {},
     "output_type": "display_data"
    }
   ],
   "source": [
    "(x_train, y_train), (x_test, y_test), preproc = text.texts_from_df(train_s,text_column='text', preprocess_mode='bert', maxlen=128, label_columns=['0','1','2','3'])"
   ]
  },
  {
   "cell_type": "code",
   "execution_count": 25,
   "metadata": {
    "colab": {
     "base_uri": "https://localhost:8080/",
     "height": 68
    },
    "colab_type": "code",
    "id": "tXu5RbBx-TkE",
    "outputId": "e54b4a08-cef9-4dec-ef19-89c2ea86f8a4"
   },
   "outputs": [
    {
     "name": "stdout",
     "output_type": "stream",
     "text": [
      "Is Multi-Label? True\n",
      "maxlen is 128\n",
      "done.\n"
     ]
    }
   ],
   "source": [
    "learner = ktrain.get_learner(text.text_classifier('bert', (x_train, y_train), preproc=preproc, multilabel=True), train_data=(x_train,y_train), val_data=(x_test, y_test), batch_size=32)"
   ]
  },
  {
   "cell_type": "code",
   "execution_count": 26,
   "metadata": {
    "colab": {
     "base_uri": "https://localhost:8080/",
     "height": 68
    },
    "colab_type": "code",
    "id": "jl3xhwj3JFGF",
    "outputId": "7079ab96-bb99-4503-e093-431c552aba95"
   },
   "outputs": [
    {
     "name": "stdout",
     "output_type": "stream",
     "text": [
      "Train on 3874 samples, validate on 431 samples\n",
      "Epoch 1/2\n",
      "  32/3874 [..............................] - ETA: 2:15:39"
     ]
    },
    {
     "ename": "ResourceExhaustedError",
     "evalue": " OOM when allocating tensor with shape[32,128,768] and type float on /job:localhost/replica:0/task:0/device:CPU:0 by allocator cpu\n\t [[node model_1/Encoder-6-MultiHeadSelfAttention-Norm/mul (defined at D:\\Users\\divyakumar.prajapati\\Anaconda 3\\lib\\site-packages\\keras_layer_normalization\\layer_normalization.py:95) ]]\nHint: If you want to see a list of allocated tensors when OOM happens, add report_tensor_allocations_upon_oom to RunOptions for current allocation info.\n [Op:__inference_distributed_function_37131]\n\nErrors may have originated from an input operation.\nInput Source operations connected to node model_1/Encoder-6-MultiHeadSelfAttention-Norm/mul:\n model_1/Encoder-6-MultiHeadSelfAttention-Norm/truediv (defined at D:\\Users\\divyakumar.prajapati\\Anaconda 3\\lib\\site-packages\\keras_layer_normalization\\layer_normalization.py:93)\n\nFunction call stack:\ndistributed_function\n",
     "output_type": "error",
     "traceback": [
      "\u001b[1;31m---------------------------------------------------------------------------\u001b[0m",
      "\u001b[1;31mResourceExhaustedError\u001b[0m                    Traceback (most recent call last)",
      "\u001b[1;32m<ipython-input-26-738c4916ab23>\u001b[0m in \u001b[0;36m<module>\u001b[1;34m\u001b[0m\n\u001b[1;32m----> 1\u001b[1;33m \u001b[0mlearner\u001b[0m\u001b[1;33m.\u001b[0m\u001b[0mfit\u001b[0m\u001b[1;33m(\u001b[0m\u001b[1;36m0.001\u001b[0m\u001b[1;33m,\u001b[0m\u001b[1;36m2\u001b[0m\u001b[1;33m)\u001b[0m\u001b[1;33m\u001b[0m\u001b[1;33m\u001b[0m\u001b[0m\n\u001b[0m",
      "\u001b[1;32m~\\Anaconda 3\\lib\\site-packages\\ktrain\\core.py\u001b[0m in \u001b[0;36mfit\u001b[1;34m(self, lr, n_cycles, cycle_len, cycle_mult, lr_decay, checkpoint_folder, early_stopping, verbose, class_weight, callbacks)\u001b[0m\n\u001b[0;32m   1004\u001b[0m                                   \u001b[0mshuffle\u001b[0m\u001b[1;33m=\u001b[0m\u001b[1;32mTrue\u001b[0m\u001b[1;33m,\u001b[0m\u001b[1;33m\u001b[0m\u001b[1;33m\u001b[0m\u001b[0m\n\u001b[0;32m   1005\u001b[0m                                   \u001b[0mclass_weight\u001b[0m\u001b[1;33m=\u001b[0m\u001b[0mclass_weight\u001b[0m\u001b[1;33m,\u001b[0m\u001b[1;33m\u001b[0m\u001b[1;33m\u001b[0m\u001b[0m\n\u001b[1;32m-> 1006\u001b[1;33m                                   callbacks=kcallbacks)\n\u001b[0m\u001b[0;32m   1007\u001b[0m \u001b[1;33m\u001b[0m\u001b[0m\n\u001b[0;32m   1008\u001b[0m         \u001b[1;32mif\u001b[0m \u001b[0msgdr\u001b[0m \u001b[1;32mis\u001b[0m \u001b[1;32mnot\u001b[0m \u001b[1;32mNone\u001b[0m\u001b[1;33m:\u001b[0m \u001b[0mhist\u001b[0m\u001b[1;33m.\u001b[0m\u001b[0mhistory\u001b[0m\u001b[1;33m[\u001b[0m\u001b[1;34m'lr'\u001b[0m\u001b[1;33m]\u001b[0m \u001b[1;33m=\u001b[0m \u001b[0msgdr\u001b[0m\u001b[1;33m.\u001b[0m\u001b[0mhistory\u001b[0m\u001b[1;33m[\u001b[0m\u001b[1;34m'lr'\u001b[0m\u001b[1;33m]\u001b[0m\u001b[1;33m\u001b[0m\u001b[1;33m\u001b[0m\u001b[0m\n",
      "\u001b[1;32m~\\Anaconda 3\\lib\\site-packages\\tensorflow_core\\python\\keras\\engine\\training.py\u001b[0m in \u001b[0;36mfit\u001b[1;34m(self, x, y, batch_size, epochs, verbose, callbacks, validation_split, validation_data, shuffle, class_weight, sample_weight, initial_epoch, steps_per_epoch, validation_steps, validation_freq, max_queue_size, workers, use_multiprocessing, **kwargs)\u001b[0m\n\u001b[0;32m    817\u001b[0m         \u001b[0mmax_queue_size\u001b[0m\u001b[1;33m=\u001b[0m\u001b[0mmax_queue_size\u001b[0m\u001b[1;33m,\u001b[0m\u001b[1;33m\u001b[0m\u001b[1;33m\u001b[0m\u001b[0m\n\u001b[0;32m    818\u001b[0m         \u001b[0mworkers\u001b[0m\u001b[1;33m=\u001b[0m\u001b[0mworkers\u001b[0m\u001b[1;33m,\u001b[0m\u001b[1;33m\u001b[0m\u001b[1;33m\u001b[0m\u001b[0m\n\u001b[1;32m--> 819\u001b[1;33m         use_multiprocessing=use_multiprocessing)\n\u001b[0m\u001b[0;32m    820\u001b[0m \u001b[1;33m\u001b[0m\u001b[0m\n\u001b[0;32m    821\u001b[0m   def evaluate(self,\n",
      "\u001b[1;32m~\\Anaconda 3\\lib\\site-packages\\tensorflow_core\\python\\keras\\engine\\training_v2.py\u001b[0m in \u001b[0;36mfit\u001b[1;34m(self, model, x, y, batch_size, epochs, verbose, callbacks, validation_split, validation_data, shuffle, class_weight, sample_weight, initial_epoch, steps_per_epoch, validation_steps, validation_freq, max_queue_size, workers, use_multiprocessing, **kwargs)\u001b[0m\n\u001b[0;32m    340\u001b[0m                 \u001b[0mmode\u001b[0m\u001b[1;33m=\u001b[0m\u001b[0mModeKeys\u001b[0m\u001b[1;33m.\u001b[0m\u001b[0mTRAIN\u001b[0m\u001b[1;33m,\u001b[0m\u001b[1;33m\u001b[0m\u001b[1;33m\u001b[0m\u001b[0m\n\u001b[0;32m    341\u001b[0m                 \u001b[0mtraining_context\u001b[0m\u001b[1;33m=\u001b[0m\u001b[0mtraining_context\u001b[0m\u001b[1;33m,\u001b[0m\u001b[1;33m\u001b[0m\u001b[1;33m\u001b[0m\u001b[0m\n\u001b[1;32m--> 342\u001b[1;33m                 total_epochs=epochs)\n\u001b[0m\u001b[0;32m    343\u001b[0m             \u001b[0mcbks\u001b[0m\u001b[1;33m.\u001b[0m\u001b[0mmake_logs\u001b[0m\u001b[1;33m(\u001b[0m\u001b[0mmodel\u001b[0m\u001b[1;33m,\u001b[0m \u001b[0mepoch_logs\u001b[0m\u001b[1;33m,\u001b[0m \u001b[0mtraining_result\u001b[0m\u001b[1;33m,\u001b[0m \u001b[0mModeKeys\u001b[0m\u001b[1;33m.\u001b[0m\u001b[0mTRAIN\u001b[0m\u001b[1;33m)\u001b[0m\u001b[1;33m\u001b[0m\u001b[1;33m\u001b[0m\u001b[0m\n\u001b[0;32m    344\u001b[0m \u001b[1;33m\u001b[0m\u001b[0m\n",
      "\u001b[1;32m~\\Anaconda 3\\lib\\site-packages\\tensorflow_core\\python\\keras\\engine\\training_v2.py\u001b[0m in \u001b[0;36mrun_one_epoch\u001b[1;34m(model, iterator, execution_function, dataset_size, batch_size, strategy, steps_per_epoch, num_samples, mode, training_context, total_epochs)\u001b[0m\n\u001b[0;32m    126\u001b[0m         step=step, mode=mode, size=current_batch_size) as batch_logs:\n\u001b[0;32m    127\u001b[0m       \u001b[1;32mtry\u001b[0m\u001b[1;33m:\u001b[0m\u001b[1;33m\u001b[0m\u001b[1;33m\u001b[0m\u001b[0m\n\u001b[1;32m--> 128\u001b[1;33m         \u001b[0mbatch_outs\u001b[0m \u001b[1;33m=\u001b[0m \u001b[0mexecution_function\u001b[0m\u001b[1;33m(\u001b[0m\u001b[0miterator\u001b[0m\u001b[1;33m)\u001b[0m\u001b[1;33m\u001b[0m\u001b[1;33m\u001b[0m\u001b[0m\n\u001b[0m\u001b[0;32m    129\u001b[0m       \u001b[1;32mexcept\u001b[0m \u001b[1;33m(\u001b[0m\u001b[0mStopIteration\u001b[0m\u001b[1;33m,\u001b[0m \u001b[0merrors\u001b[0m\u001b[1;33m.\u001b[0m\u001b[0mOutOfRangeError\u001b[0m\u001b[1;33m)\u001b[0m\u001b[1;33m:\u001b[0m\u001b[1;33m\u001b[0m\u001b[1;33m\u001b[0m\u001b[0m\n\u001b[0;32m    130\u001b[0m         \u001b[1;31m# TODO(kaftan): File bug about tf function and errors.OutOfRangeError?\u001b[0m\u001b[1;33m\u001b[0m\u001b[1;33m\u001b[0m\u001b[1;33m\u001b[0m\u001b[0m\n",
      "\u001b[1;32m~\\Anaconda 3\\lib\\site-packages\\tensorflow_core\\python\\keras\\engine\\training_v2_utils.py\u001b[0m in \u001b[0;36mexecution_function\u001b[1;34m(input_fn)\u001b[0m\n\u001b[0;32m     96\u001b[0m     \u001b[1;31m# `numpy` translates Tensors to values in Eager mode.\u001b[0m\u001b[1;33m\u001b[0m\u001b[1;33m\u001b[0m\u001b[1;33m\u001b[0m\u001b[0m\n\u001b[0;32m     97\u001b[0m     return nest.map_structure(_non_none_constant_value,\n\u001b[1;32m---> 98\u001b[1;33m                               distributed_function(input_fn))\n\u001b[0m\u001b[0;32m     99\u001b[0m \u001b[1;33m\u001b[0m\u001b[0m\n\u001b[0;32m    100\u001b[0m   \u001b[1;32mreturn\u001b[0m \u001b[0mexecution_function\u001b[0m\u001b[1;33m\u001b[0m\u001b[1;33m\u001b[0m\u001b[0m\n",
      "\u001b[1;32m~\\Anaconda 3\\lib\\site-packages\\tensorflow_core\\python\\eager\\def_function.py\u001b[0m in \u001b[0;36m__call__\u001b[1;34m(self, *args, **kwds)\u001b[0m\n\u001b[0;32m    566\u001b[0m         \u001b[0mxla_context\u001b[0m\u001b[1;33m.\u001b[0m\u001b[0mExit\u001b[0m\u001b[1;33m(\u001b[0m\u001b[1;33m)\u001b[0m\u001b[1;33m\u001b[0m\u001b[1;33m\u001b[0m\u001b[0m\n\u001b[0;32m    567\u001b[0m     \u001b[1;32melse\u001b[0m\u001b[1;33m:\u001b[0m\u001b[1;33m\u001b[0m\u001b[1;33m\u001b[0m\u001b[0m\n\u001b[1;32m--> 568\u001b[1;33m       \u001b[0mresult\u001b[0m \u001b[1;33m=\u001b[0m \u001b[0mself\u001b[0m\u001b[1;33m.\u001b[0m\u001b[0m_call\u001b[0m\u001b[1;33m(\u001b[0m\u001b[1;33m*\u001b[0m\u001b[0margs\u001b[0m\u001b[1;33m,\u001b[0m \u001b[1;33m**\u001b[0m\u001b[0mkwds\u001b[0m\u001b[1;33m)\u001b[0m\u001b[1;33m\u001b[0m\u001b[1;33m\u001b[0m\u001b[0m\n\u001b[0m\u001b[0;32m    569\u001b[0m \u001b[1;33m\u001b[0m\u001b[0m\n\u001b[0;32m    570\u001b[0m     \u001b[1;32mif\u001b[0m \u001b[0mtracing_count\u001b[0m \u001b[1;33m==\u001b[0m \u001b[0mself\u001b[0m\u001b[1;33m.\u001b[0m\u001b[0m_get_tracing_count\u001b[0m\u001b[1;33m(\u001b[0m\u001b[1;33m)\u001b[0m\u001b[1;33m:\u001b[0m\u001b[1;33m\u001b[0m\u001b[1;33m\u001b[0m\u001b[0m\n",
      "\u001b[1;32m~\\Anaconda 3\\lib\\site-packages\\tensorflow_core\\python\\eager\\def_function.py\u001b[0m in \u001b[0;36m_call\u001b[1;34m(self, *args, **kwds)\u001b[0m\n\u001b[0;32m    630\u001b[0m         \u001b[1;31m# Lifting succeeded, so variables are initialized and we can run the\u001b[0m\u001b[1;33m\u001b[0m\u001b[1;33m\u001b[0m\u001b[1;33m\u001b[0m\u001b[0m\n\u001b[0;32m    631\u001b[0m         \u001b[1;31m# stateless function.\u001b[0m\u001b[1;33m\u001b[0m\u001b[1;33m\u001b[0m\u001b[1;33m\u001b[0m\u001b[0m\n\u001b[1;32m--> 632\u001b[1;33m         \u001b[1;32mreturn\u001b[0m \u001b[0mself\u001b[0m\u001b[1;33m.\u001b[0m\u001b[0m_stateless_fn\u001b[0m\u001b[1;33m(\u001b[0m\u001b[1;33m*\u001b[0m\u001b[0margs\u001b[0m\u001b[1;33m,\u001b[0m \u001b[1;33m**\u001b[0m\u001b[0mkwds\u001b[0m\u001b[1;33m)\u001b[0m\u001b[1;33m\u001b[0m\u001b[1;33m\u001b[0m\u001b[0m\n\u001b[0m\u001b[0;32m    633\u001b[0m     \u001b[1;32melse\u001b[0m\u001b[1;33m:\u001b[0m\u001b[1;33m\u001b[0m\u001b[1;33m\u001b[0m\u001b[0m\n\u001b[0;32m    634\u001b[0m       \u001b[0mcanon_args\u001b[0m\u001b[1;33m,\u001b[0m \u001b[0mcanon_kwds\u001b[0m \u001b[1;33m=\u001b[0m\u001b[0;31m \u001b[0m\u001b[0;31m\\\u001b[0m\u001b[1;33m\u001b[0m\u001b[1;33m\u001b[0m\u001b[0m\n",
      "\u001b[1;32m~\\Anaconda 3\\lib\\site-packages\\tensorflow_core\\python\\eager\\function.py\u001b[0m in \u001b[0;36m__call__\u001b[1;34m(self, *args, **kwargs)\u001b[0m\n\u001b[0;32m   2361\u001b[0m     \u001b[1;32mwith\u001b[0m \u001b[0mself\u001b[0m\u001b[1;33m.\u001b[0m\u001b[0m_lock\u001b[0m\u001b[1;33m:\u001b[0m\u001b[1;33m\u001b[0m\u001b[1;33m\u001b[0m\u001b[0m\n\u001b[0;32m   2362\u001b[0m       \u001b[0mgraph_function\u001b[0m\u001b[1;33m,\u001b[0m \u001b[0margs\u001b[0m\u001b[1;33m,\u001b[0m \u001b[0mkwargs\u001b[0m \u001b[1;33m=\u001b[0m \u001b[0mself\u001b[0m\u001b[1;33m.\u001b[0m\u001b[0m_maybe_define_function\u001b[0m\u001b[1;33m(\u001b[0m\u001b[0margs\u001b[0m\u001b[1;33m,\u001b[0m \u001b[0mkwargs\u001b[0m\u001b[1;33m)\u001b[0m\u001b[1;33m\u001b[0m\u001b[1;33m\u001b[0m\u001b[0m\n\u001b[1;32m-> 2363\u001b[1;33m     \u001b[1;32mreturn\u001b[0m \u001b[0mgraph_function\u001b[0m\u001b[1;33m.\u001b[0m\u001b[0m_filtered_call\u001b[0m\u001b[1;33m(\u001b[0m\u001b[0margs\u001b[0m\u001b[1;33m,\u001b[0m \u001b[0mkwargs\u001b[0m\u001b[1;33m)\u001b[0m  \u001b[1;31m# pylint: disable=protected-access\u001b[0m\u001b[1;33m\u001b[0m\u001b[1;33m\u001b[0m\u001b[0m\n\u001b[0m\u001b[0;32m   2364\u001b[0m \u001b[1;33m\u001b[0m\u001b[0m\n\u001b[0;32m   2365\u001b[0m   \u001b[1;33m@\u001b[0m\u001b[0mproperty\u001b[0m\u001b[1;33m\u001b[0m\u001b[1;33m\u001b[0m\u001b[0m\n",
      "\u001b[1;32m~\\Anaconda 3\\lib\\site-packages\\tensorflow_core\\python\\eager\\function.py\u001b[0m in \u001b[0;36m_filtered_call\u001b[1;34m(self, args, kwargs)\u001b[0m\n\u001b[0;32m   1609\u001b[0m          if isinstance(t, (ops.Tensor,\n\u001b[0;32m   1610\u001b[0m                            resource_variable_ops.BaseResourceVariable))),\n\u001b[1;32m-> 1611\u001b[1;33m         self.captured_inputs)\n\u001b[0m\u001b[0;32m   1612\u001b[0m \u001b[1;33m\u001b[0m\u001b[0m\n\u001b[0;32m   1613\u001b[0m   \u001b[1;32mdef\u001b[0m \u001b[0m_call_flat\u001b[0m\u001b[1;33m(\u001b[0m\u001b[0mself\u001b[0m\u001b[1;33m,\u001b[0m \u001b[0margs\u001b[0m\u001b[1;33m,\u001b[0m \u001b[0mcaptured_inputs\u001b[0m\u001b[1;33m,\u001b[0m \u001b[0mcancellation_manager\u001b[0m\u001b[1;33m=\u001b[0m\u001b[1;32mNone\u001b[0m\u001b[1;33m)\u001b[0m\u001b[1;33m:\u001b[0m\u001b[1;33m\u001b[0m\u001b[1;33m\u001b[0m\u001b[0m\n",
      "\u001b[1;32m~\\Anaconda 3\\lib\\site-packages\\tensorflow_core\\python\\eager\\function.py\u001b[0m in \u001b[0;36m_call_flat\u001b[1;34m(self, args, captured_inputs, cancellation_manager)\u001b[0m\n\u001b[0;32m   1690\u001b[0m       \u001b[1;31m# No tape is watching; skip to running the function.\u001b[0m\u001b[1;33m\u001b[0m\u001b[1;33m\u001b[0m\u001b[1;33m\u001b[0m\u001b[0m\n\u001b[0;32m   1691\u001b[0m       return self._build_call_outputs(self._inference_function.call(\n\u001b[1;32m-> 1692\u001b[1;33m           ctx, args, cancellation_manager=cancellation_manager))\n\u001b[0m\u001b[0;32m   1693\u001b[0m     forward_backward = self._select_forward_and_backward_functions(\n\u001b[0;32m   1694\u001b[0m         \u001b[0margs\u001b[0m\u001b[1;33m,\u001b[0m\u001b[1;33m\u001b[0m\u001b[1;33m\u001b[0m\u001b[0m\n",
      "\u001b[1;32m~\\Anaconda 3\\lib\\site-packages\\tensorflow_core\\python\\eager\\function.py\u001b[0m in \u001b[0;36mcall\u001b[1;34m(self, ctx, args, cancellation_manager)\u001b[0m\n\u001b[0;32m    543\u001b[0m               \u001b[0minputs\u001b[0m\u001b[1;33m=\u001b[0m\u001b[0margs\u001b[0m\u001b[1;33m,\u001b[0m\u001b[1;33m\u001b[0m\u001b[1;33m\u001b[0m\u001b[0m\n\u001b[0;32m    544\u001b[0m               \u001b[0mattrs\u001b[0m\u001b[1;33m=\u001b[0m\u001b[1;33m(\u001b[0m\u001b[1;34m\"executor_type\"\u001b[0m\u001b[1;33m,\u001b[0m \u001b[0mexecutor_type\u001b[0m\u001b[1;33m,\u001b[0m \u001b[1;34m\"config_proto\"\u001b[0m\u001b[1;33m,\u001b[0m \u001b[0mconfig\u001b[0m\u001b[1;33m)\u001b[0m\u001b[1;33m,\u001b[0m\u001b[1;33m\u001b[0m\u001b[1;33m\u001b[0m\u001b[0m\n\u001b[1;32m--> 545\u001b[1;33m               ctx=ctx)\n\u001b[0m\u001b[0;32m    546\u001b[0m         \u001b[1;32melse\u001b[0m\u001b[1;33m:\u001b[0m\u001b[1;33m\u001b[0m\u001b[1;33m\u001b[0m\u001b[0m\n\u001b[0;32m    547\u001b[0m           outputs = execute.execute_with_cancellation(\n",
      "\u001b[1;32m~\\Anaconda 3\\lib\\site-packages\\tensorflow_core\\python\\eager\\execute.py\u001b[0m in \u001b[0;36mquick_execute\u001b[1;34m(op_name, num_outputs, inputs, attrs, ctx, name)\u001b[0m\n\u001b[0;32m     65\u001b[0m     \u001b[1;32melse\u001b[0m\u001b[1;33m:\u001b[0m\u001b[1;33m\u001b[0m\u001b[1;33m\u001b[0m\u001b[0m\n\u001b[0;32m     66\u001b[0m       \u001b[0mmessage\u001b[0m \u001b[1;33m=\u001b[0m \u001b[0me\u001b[0m\u001b[1;33m.\u001b[0m\u001b[0mmessage\u001b[0m\u001b[1;33m\u001b[0m\u001b[1;33m\u001b[0m\u001b[0m\n\u001b[1;32m---> 67\u001b[1;33m     \u001b[0msix\u001b[0m\u001b[1;33m.\u001b[0m\u001b[0mraise_from\u001b[0m\u001b[1;33m(\u001b[0m\u001b[0mcore\u001b[0m\u001b[1;33m.\u001b[0m\u001b[0m_status_to_exception\u001b[0m\u001b[1;33m(\u001b[0m\u001b[0me\u001b[0m\u001b[1;33m.\u001b[0m\u001b[0mcode\u001b[0m\u001b[1;33m,\u001b[0m \u001b[0mmessage\u001b[0m\u001b[1;33m)\u001b[0m\u001b[1;33m,\u001b[0m \u001b[1;32mNone\u001b[0m\u001b[1;33m)\u001b[0m\u001b[1;33m\u001b[0m\u001b[1;33m\u001b[0m\u001b[0m\n\u001b[0m\u001b[0;32m     68\u001b[0m   \u001b[1;32mexcept\u001b[0m \u001b[0mTypeError\u001b[0m \u001b[1;32mas\u001b[0m \u001b[0me\u001b[0m\u001b[1;33m:\u001b[0m\u001b[1;33m\u001b[0m\u001b[1;33m\u001b[0m\u001b[0m\n\u001b[0;32m     69\u001b[0m     keras_symbolic_tensors = [\n",
      "\u001b[1;32m~\\Anaconda 3\\lib\\site-packages\\six.py\u001b[0m in \u001b[0;36mraise_from\u001b[1;34m(value, from_value)\u001b[0m\n",
      "\u001b[1;31mResourceExhaustedError\u001b[0m:  OOM when allocating tensor with shape[32,128,768] and type float on /job:localhost/replica:0/task:0/device:CPU:0 by allocator cpu\n\t [[node model_1/Encoder-6-MultiHeadSelfAttention-Norm/mul (defined at D:\\Users\\divyakumar.prajapati\\Anaconda 3\\lib\\site-packages\\keras_layer_normalization\\layer_normalization.py:95) ]]\nHint: If you want to see a list of allocated tensors when OOM happens, add report_tensor_allocations_upon_oom to RunOptions for current allocation info.\n [Op:__inference_distributed_function_37131]\n\nErrors may have originated from an input operation.\nInput Source operations connected to node model_1/Encoder-6-MultiHeadSelfAttention-Norm/mul:\n model_1/Encoder-6-MultiHeadSelfAttention-Norm/truediv (defined at D:\\Users\\divyakumar.prajapati\\Anaconda 3\\lib\\site-packages\\keras_layer_normalization\\layer_normalization.py:93)\n\nFunction call stack:\ndistributed_function\n"
     ]
    }
   ],
   "source": [
    "learner.fit(0.001,2)"
   ]
  },
  {
   "cell_type": "code",
   "execution_count": 35,
   "metadata": {
    "colab": {},
    "colab_type": "code",
    "id": "MEHTI69Zudt8"
   },
   "outputs": [],
   "source": [
    "from sklearn.metrics import classification_report, confusion_matrix\n"
   ]
  },
  {
   "cell_type": "code",
   "execution_count": 59,
   "metadata": {
    "colab": {
     "base_uri": "https://localhost:8080/",
     "height": 255
    },
    "colab_type": "code",
    "id": "TgdKgjRb0yrL",
    "outputId": "8672c5aa-646e-438e-ed31-03bc6f6472bc"
   },
   "outputs": [
    {
     "data": {
      "text/plain": [
       "[array([[  101,  2321,  1012, ...,     0,     0,     0],\n",
       "        [  101,  5636,  4761, ...,     0,     0,     0],\n",
       "        [  101,  1018,  1012, ...,     0,     0,     0],\n",
       "        ...,\n",
       "        [  101, 23614,  2224, ...,     0,     0,     0],\n",
       "        [  101,  3424,  3597, ...,     0,     0,     0],\n",
       "        [  101,  3447,  7047, ...,     0,     0,     0]]),\n",
       " array([[0, 0, 0, ..., 0, 0, 0],\n",
       "        [0, 0, 0, ..., 0, 0, 0],\n",
       "        [0, 0, 0, ..., 0, 0, 0],\n",
       "        ...,\n",
       "        [0, 0, 0, ..., 0, 0, 0],\n",
       "        [0, 0, 0, ..., 0, 0, 0],\n",
       "        [0, 0, 0, ..., 0, 0, 0]])]"
      ]
     },
     "execution_count": 59,
     "metadata": {
      "tags": []
     },
     "output_type": "execute_result"
    }
   ],
   "source": [
    "x_test"
   ]
  },
  {
   "cell_type": "code",
   "execution_count": 72,
   "metadata": {
    "colab": {},
    "colab_type": "code",
    "id": "7cevM4n5_msB"
   },
   "outputs": [],
   "source": [
    "learner.model.save_weights('weigths.h5')"
   ]
  },
  {
   "cell_type": "code",
   "execution_count": 24,
   "metadata": {
    "colab": {},
    "colab_type": "code",
    "id": "j1pDXggxA8D0"
   },
   "outputs": [],
   "source": [
    "learner.model.load_weights('weigths.h5')"
   ]
  },
  {
   "cell_type": "code",
   "execution_count": 26,
   "metadata": {
    "colab": {},
    "colab_type": "code",
    "id": "9IpDYe9f8886"
   },
   "outputs": [],
   "source": [
    "c = learner.val_data"
   ]
  },
  {
   "cell_type": "code",
   "execution_count": 28,
   "metadata": {
    "colab": {
     "base_uri": "https://localhost:8080/",
     "height": 255
    },
    "colab_type": "code",
    "id": "TxATWnit-Mb3",
    "outputId": "3007edc8-fb53-4bbd-de22-ca291df94571"
   },
   "outputs": [
    {
     "data": {
      "text/plain": [
       "([array([[ 101, 4004, 2679, ...,    0,    0,    0],\n",
       "         [ 101, 2177, 1015, ...,    0,    0,    0],\n",
       "         [ 101, 1022, 1012, ...,    0,    0,    0],\n",
       "         ...,\n",
       "         [ 101, 2143, 5435, ...,    0,    0,    0],\n",
       "         [ 101, 2060, 9556, ...,    0,    0,    0],\n",
       "         [ 101, 6643, 2098, ...,    0,    0,    0]]),\n",
       "  array([[0, 0, 0, ..., 0, 0, 0],\n",
       "         [0, 0, 0, ..., 0, 0, 0],\n",
       "         [0, 0, 0, ..., 0, 0, 0],\n",
       "         ...,\n",
       "         [0, 0, 0, ..., 0, 0, 0],\n",
       "         [0, 0, 0, ..., 0, 0, 0],\n",
       "         [0, 0, 0, ..., 0, 0, 0]])],)"
      ]
     },
     "execution_count": 28,
     "metadata": {
      "tags": []
     },
     "output_type": "execute_result"
    }
   ],
   "source": [
    "c[:-1]"
   ]
  },
  {
   "cell_type": "code",
   "execution_count": 36,
   "metadata": {
    "colab": {},
    "colab_type": "code",
    "id": "2lR7deMHx2dj"
   },
   "outputs": [],
   "source": [
    "y_pred = learner.predict()"
   ]
  },
  {
   "cell_type": "code",
   "execution_count": 37,
   "metadata": {
    "colab": {
     "base_uri": "https://localhost:8080/",
     "height": 136
    },
    "colab_type": "code",
    "id": "oFIyAr_c0Mn1",
    "outputId": "d1df78f7-7147-466c-fc51-2535d11dcdd5"
   },
   "outputs": [
    {
     "data": {
      "text/plain": [
       "array([[0.26339096, 0.17766337, 0.17027742, 0.36930683],\n",
       "       [0.26339093, 0.17766337, 0.17027745, 0.36930674],\n",
       "       [0.2633909 , 0.17766336, 0.1702774 , 0.36930683],\n",
       "       ...,\n",
       "       [0.26339096, 0.17766342, 0.17027733, 0.36930668],\n",
       "       [0.26339093, 0.17766339, 0.17027737, 0.36930674],\n",
       "       [0.263391  , 0.17766339, 0.17027736, 0.36930674]], dtype=float32)"
      ]
     },
     "execution_count": 37,
     "metadata": {
      "tags": []
     },
     "output_type": "execute_result"
    }
   ],
   "source": [
    "y_pred"
   ]
  },
  {
   "cell_type": "code",
   "execution_count": 42,
   "metadata": {
    "colab": {},
    "colab_type": "code",
    "id": "mSNM7Rm_OoPl"
   },
   "outputs": [],
   "source": [
    "predictor = ktrain.get_predictor(learner.model, preproc)"
   ]
  },
  {
   "cell_type": "code",
   "execution_count": 101,
   "metadata": {
    "colab": {},
    "colab_type": "code",
    "id": "50cwAKxBYuZ1"
   },
   "outputs": [],
   "source": [
    "def encode(c):\n",
    "  for i in range(4):\n",
    "    b = list(map(max, zip(*c)))\n",
    "    if c[i][1] == b[1]:\n",
    "      return c[i][0]\n",
    "      break"
   ]
  },
  {
   "cell_type": "code",
   "execution_count": 102,
   "metadata": {
    "colab": {
     "base_uri": "https://localhost:8080/",
     "height": 17
    },
    "colab_type": "code",
    "id": "01JWBYXYQIgn",
    "outputId": "5575d9ed-d1d0-4f69-e259-6f3abe666343"
   },
   "outputs": [
    {
     "data": {
      "text/html": [],
      "text/plain": [
       "<IPython.core.display.HTML object>"
      ]
     },
     "metadata": {
      "tags": []
     },
     "output_type": "display_data"
    },
    {
     "data": {
      "text/html": [],
      "text/plain": [
       "<IPython.core.display.HTML object>"
      ]
     },
     "metadata": {
      "tags": []
     },
     "output_type": "display_data"
    },
    {
     "data": {
      "text/html": [],
      "text/plain": [
       "<IPython.core.display.HTML object>"
      ]
     },
     "metadata": {
      "tags": []
     },
     "output_type": "display_data"
    },
    {
     "data": {
      "text/html": [],
      "text/plain": [
       "<IPython.core.display.HTML object>"
      ]
     },
     "metadata": {
      "tags": []
     },
     "output_type": "display_data"
    },
    {
     "data": {
      "text/html": [],
      "text/plain": [
       "<IPython.core.display.HTML object>"
      ]
     },
     "metadata": {
      "tags": []
     },
     "output_type": "display_data"
    },
    {
     "data": {
      "text/html": [],
      "text/plain": [
       "<IPython.core.display.HTML object>"
      ]
     },
     "metadata": {
      "tags": []
     },
     "output_type": "display_data"
    },
    {
     "data": {
      "text/html": [],
      "text/plain": [
       "<IPython.core.display.HTML object>"
      ]
     },
     "metadata": {
      "tags": []
     },
     "output_type": "display_data"
    },
    {
     "data": {
      "text/html": [],
      "text/plain": [
       "<IPython.core.display.HTML object>"
      ]
     },
     "metadata": {
      "tags": []
     },
     "output_type": "display_data"
    },
    {
     "data": {
      "text/html": [],
      "text/plain": [
       "<IPython.core.display.HTML object>"
      ]
     },
     "metadata": {
      "tags": []
     },
     "output_type": "display_data"
    },
    {
     "data": {
      "text/html": [],
      "text/plain": [
       "<IPython.core.display.HTML object>"
      ]
     },
     "metadata": {
      "tags": []
     },
     "output_type": "display_data"
    },
    {
     "data": {
      "text/html": [],
      "text/plain": [
       "<IPython.core.display.HTML object>"
      ]
     },
     "metadata": {
      "tags": []
     },
     "output_type": "display_data"
    },
    {
     "data": {
      "text/html": [],
      "text/plain": [
       "<IPython.core.display.HTML object>"
      ]
     },
     "metadata": {
      "tags": []
     },
     "output_type": "display_data"
    },
    {
     "data": {
      "text/html": [],
      "text/plain": [
       "<IPython.core.display.HTML object>"
      ]
     },
     "metadata": {
      "tags": []
     },
     "output_type": "display_data"
    },
    {
     "data": {
      "text/html": [],
      "text/plain": [
       "<IPython.core.display.HTML object>"
      ]
     },
     "metadata": {
      "tags": []
     },
     "output_type": "display_data"
    },
    {
     "data": {
      "text/html": [],
      "text/plain": [
       "<IPython.core.display.HTML object>"
      ]
     },
     "metadata": {
      "tags": []
     },
     "output_type": "display_data"
    },
    {
     "data": {
      "text/html": [],
      "text/plain": [
       "<IPython.core.display.HTML object>"
      ]
     },
     "metadata": {
      "tags": []
     },
     "output_type": "display_data"
    },
    {
     "data": {
      "text/html": [],
      "text/plain": [
       "<IPython.core.display.HTML object>"
      ]
     },
     "metadata": {
      "tags": []
     },
     "output_type": "display_data"
    },
    {
     "data": {
      "text/html": [],
      "text/plain": [
       "<IPython.core.display.HTML object>"
      ]
     },
     "metadata": {
      "tags": []
     },
     "output_type": "display_data"
    },
    {
     "data": {
      "text/html": [],
      "text/plain": [
       "<IPython.core.display.HTML object>"
      ]
     },
     "metadata": {
      "tags": []
     },
     "output_type": "display_data"
    },
    {
     "data": {
      "text/html": [],
      "text/plain": [
       "<IPython.core.display.HTML object>"
      ]
     },
     "metadata": {
      "tags": []
     },
     "output_type": "display_data"
    },
    {
     "data": {
      "text/html": [],
      "text/plain": [
       "<IPython.core.display.HTML object>"
      ]
     },
     "metadata": {
      "tags": []
     },
     "output_type": "display_data"
    },
    {
     "data": {
      "text/html": [],
      "text/plain": [
       "<IPython.core.display.HTML object>"
      ]
     },
     "metadata": {
      "tags": []
     },
     "output_type": "display_data"
    },
    {
     "data": {
      "text/html": [],
      "text/plain": [
       "<IPython.core.display.HTML object>"
      ]
     },
     "metadata": {
      "tags": []
     },
     "output_type": "display_data"
    },
    {
     "data": {
      "text/html": [],
      "text/plain": [
       "<IPython.core.display.HTML object>"
      ]
     },
     "metadata": {
      "tags": []
     },
     "output_type": "display_data"
    },
    {
     "data": {
      "text/html": [],
      "text/plain": [
       "<IPython.core.display.HTML object>"
      ]
     },
     "metadata": {
      "tags": []
     },
     "output_type": "display_data"
    },
    {
     "data": {
      "text/html": [],
      "text/plain": [
       "<IPython.core.display.HTML object>"
      ]
     },
     "metadata": {
      "tags": []
     },
     "output_type": "display_data"
    },
    {
     "data": {
      "text/html": [],
      "text/plain": [
       "<IPython.core.display.HTML object>"
      ]
     },
     "metadata": {
      "tags": []
     },
     "output_type": "display_data"
    },
    {
     "data": {
      "text/html": [],
      "text/plain": [
       "<IPython.core.display.HTML object>"
      ]
     },
     "metadata": {
      "tags": []
     },
     "output_type": "display_data"
    },
    {
     "data": {
      "text/html": [],
      "text/plain": [
       "<IPython.core.display.HTML object>"
      ]
     },
     "metadata": {
      "tags": []
     },
     "output_type": "display_data"
    },
    {
     "data": {
      "text/html": [],
      "text/plain": [
       "<IPython.core.display.HTML object>"
      ]
     },
     "metadata": {
      "tags": []
     },
     "output_type": "display_data"
    },
    {
     "data": {
      "text/html": [],
      "text/plain": [
       "<IPython.core.display.HTML object>"
      ]
     },
     "metadata": {
      "tags": []
     },
     "output_type": "display_data"
    },
    {
     "data": {
      "text/html": [],
      "text/plain": [
       "<IPython.core.display.HTML object>"
      ]
     },
     "metadata": {
      "tags": []
     },
     "output_type": "display_data"
    },
    {
     "data": {
      "text/html": [],
      "text/plain": [
       "<IPython.core.display.HTML object>"
      ]
     },
     "metadata": {
      "tags": []
     },
     "output_type": "display_data"
    },
    {
     "data": {
      "text/html": [],
      "text/plain": [
       "<IPython.core.display.HTML object>"
      ]
     },
     "metadata": {
      "tags": []
     },
     "output_type": "display_data"
    },
    {
     "data": {
      "text/html": [],
      "text/plain": [
       "<IPython.core.display.HTML object>"
      ]
     },
     "metadata": {
      "tags": []
     },
     "output_type": "display_data"
    },
    {
     "data": {
      "text/html": [],
      "text/plain": [
       "<IPython.core.display.HTML object>"
      ]
     },
     "metadata": {
      "tags": []
     },
     "output_type": "display_data"
    },
    {
     "data": {
      "text/html": [],
      "text/plain": [
       "<IPython.core.display.HTML object>"
      ]
     },
     "metadata": {
      "tags": []
     },
     "output_type": "display_data"
    },
    {
     "data": {
      "text/html": [],
      "text/plain": [
       "<IPython.core.display.HTML object>"
      ]
     },
     "metadata": {
      "tags": []
     },
     "output_type": "display_data"
    },
    {
     "data": {
      "text/html": [],
      "text/plain": [
       "<IPython.core.display.HTML object>"
      ]
     },
     "metadata": {
      "tags": []
     },
     "output_type": "display_data"
    },
    {
     "data": {
      "text/html": [],
      "text/plain": [
       "<IPython.core.display.HTML object>"
      ]
     },
     "metadata": {
      "tags": []
     },
     "output_type": "display_data"
    },
    {
     "data": {
      "text/html": [],
      "text/plain": [
       "<IPython.core.display.HTML object>"
      ]
     },
     "metadata": {
      "tags": []
     },
     "output_type": "display_data"
    },
    {
     "data": {
      "text/html": [],
      "text/plain": [
       "<IPython.core.display.HTML object>"
      ]
     },
     "metadata": {
      "tags": []
     },
     "output_type": "display_data"
    },
    {
     "data": {
      "text/html": [],
      "text/plain": [
       "<IPython.core.display.HTML object>"
      ]
     },
     "metadata": {
      "tags": []
     },
     "output_type": "display_data"
    },
    {
     "data": {
      "text/html": [],
      "text/plain": [
       "<IPython.core.display.HTML object>"
      ]
     },
     "metadata": {
      "tags": []
     },
     "output_type": "display_data"
    },
    {
     "data": {
      "text/html": [],
      "text/plain": [
       "<IPython.core.display.HTML object>"
      ]
     },
     "metadata": {
      "tags": []
     },
     "output_type": "display_data"
    },
    {
     "data": {
      "text/html": [],
      "text/plain": [
       "<IPython.core.display.HTML object>"
      ]
     },
     "metadata": {
      "tags": []
     },
     "output_type": "display_data"
    },
    {
     "data": {
      "text/html": [],
      "text/plain": [
       "<IPython.core.display.HTML object>"
      ]
     },
     "metadata": {
      "tags": []
     },
     "output_type": "display_data"
    },
    {
     "data": {
      "text/html": [],
      "text/plain": [
       "<IPython.core.display.HTML object>"
      ]
     },
     "metadata": {
      "tags": []
     },
     "output_type": "display_data"
    },
    {
     "data": {
      "text/html": [],
      "text/plain": [
       "<IPython.core.display.HTML object>"
      ]
     },
     "metadata": {
      "tags": []
     },
     "output_type": "display_data"
    },
    {
     "data": {
      "text/html": [],
      "text/plain": [
       "<IPython.core.display.HTML object>"
      ]
     },
     "metadata": {
      "tags": []
     },
     "output_type": "display_data"
    },
    {
     "data": {
      "text/html": [],
      "text/plain": [
       "<IPython.core.display.HTML object>"
      ]
     },
     "metadata": {
      "tags": []
     },
     "output_type": "display_data"
    },
    {
     "data": {
      "text/html": [],
      "text/plain": [
       "<IPython.core.display.HTML object>"
      ]
     },
     "metadata": {
      "tags": []
     },
     "output_type": "display_data"
    },
    {
     "data": {
      "text/html": [],
      "text/plain": [
       "<IPython.core.display.HTML object>"
      ]
     },
     "metadata": {
      "tags": []
     },
     "output_type": "display_data"
    },
    {
     "data": {
      "text/html": [],
      "text/plain": [
       "<IPython.core.display.HTML object>"
      ]
     },
     "metadata": {
      "tags": []
     },
     "output_type": "display_data"
    },
    {
     "data": {
      "text/html": [],
      "text/plain": [
       "<IPython.core.display.HTML object>"
      ]
     },
     "metadata": {
      "tags": []
     },
     "output_type": "display_data"
    },
    {
     "data": {
      "text/html": [],
      "text/plain": [
       "<IPython.core.display.HTML object>"
      ]
     },
     "metadata": {
      "tags": []
     },
     "output_type": "display_data"
    },
    {
     "data": {
      "text/html": [],
      "text/plain": [
       "<IPython.core.display.HTML object>"
      ]
     },
     "metadata": {
      "tags": []
     },
     "output_type": "display_data"
    },
    {
     "data": {
      "text/html": [],
      "text/plain": [
       "<IPython.core.display.HTML object>"
      ]
     },
     "metadata": {
      "tags": []
     },
     "output_type": "display_data"
    },
    {
     "data": {
      "text/html": [],
      "text/plain": [
       "<IPython.core.display.HTML object>"
      ]
     },
     "metadata": {
      "tags": []
     },
     "output_type": "display_data"
    },
    {
     "data": {
      "text/html": [],
      "text/plain": [
       "<IPython.core.display.HTML object>"
      ]
     },
     "metadata": {
      "tags": []
     },
     "output_type": "display_data"
    },
    {
     "data": {
      "text/html": [],
      "text/plain": [
       "<IPython.core.display.HTML object>"
      ]
     },
     "metadata": {
      "tags": []
     },
     "output_type": "display_data"
    },
    {
     "data": {
      "text/html": [],
      "text/plain": [
       "<IPython.core.display.HTML object>"
      ]
     },
     "metadata": {
      "tags": []
     },
     "output_type": "display_data"
    },
    {
     "data": {
      "text/html": [],
      "text/plain": [
       "<IPython.core.display.HTML object>"
      ]
     },
     "metadata": {
      "tags": []
     },
     "output_type": "display_data"
    },
    {
     "data": {
      "text/html": [],
      "text/plain": [
       "<IPython.core.display.HTML object>"
      ]
     },
     "metadata": {
      "tags": []
     },
     "output_type": "display_data"
    },
    {
     "data": {
      "text/html": [],
      "text/plain": [
       "<IPython.core.display.HTML object>"
      ]
     },
     "metadata": {
      "tags": []
     },
     "output_type": "display_data"
    },
    {
     "data": {
      "text/html": [],
      "text/plain": [
       "<IPython.core.display.HTML object>"
      ]
     },
     "metadata": {
      "tags": []
     },
     "output_type": "display_data"
    },
    {
     "data": {
      "text/html": [],
      "text/plain": [
       "<IPython.core.display.HTML object>"
      ]
     },
     "metadata": {
      "tags": []
     },
     "output_type": "display_data"
    },
    {
     "data": {
      "text/html": [],
      "text/plain": [
       "<IPython.core.display.HTML object>"
      ]
     },
     "metadata": {
      "tags": []
     },
     "output_type": "display_data"
    },
    {
     "data": {
      "text/html": [],
      "text/plain": [
       "<IPython.core.display.HTML object>"
      ]
     },
     "metadata": {
      "tags": []
     },
     "output_type": "display_data"
    },
    {
     "data": {
      "text/html": [],
      "text/plain": [
       "<IPython.core.display.HTML object>"
      ]
     },
     "metadata": {
      "tags": []
     },
     "output_type": "display_data"
    },
    {
     "data": {
      "text/html": [],
      "text/plain": [
       "<IPython.core.display.HTML object>"
      ]
     },
     "metadata": {
      "tags": []
     },
     "output_type": "display_data"
    },
    {
     "data": {
      "text/html": [],
      "text/plain": [
       "<IPython.core.display.HTML object>"
      ]
     },
     "metadata": {
      "tags": []
     },
     "output_type": "display_data"
    },
    {
     "data": {
      "text/html": [],
      "text/plain": [
       "<IPython.core.display.HTML object>"
      ]
     },
     "metadata": {
      "tags": []
     },
     "output_type": "display_data"
    },
    {
     "data": {
      "text/html": [],
      "text/plain": [
       "<IPython.core.display.HTML object>"
      ]
     },
     "metadata": {
      "tags": []
     },
     "output_type": "display_data"
    },
    {
     "data": {
      "text/html": [],
      "text/plain": [
       "<IPython.core.display.HTML object>"
      ]
     },
     "metadata": {
      "tags": []
     },
     "output_type": "display_data"
    },
    {
     "data": {
      "text/html": [],
      "text/plain": [
       "<IPython.core.display.HTML object>"
      ]
     },
     "metadata": {
      "tags": []
     },
     "output_type": "display_data"
    },
    {
     "data": {
      "text/html": [],
      "text/plain": [
       "<IPython.core.display.HTML object>"
      ]
     },
     "metadata": {
      "tags": []
     },
     "output_type": "display_data"
    },
    {
     "data": {
      "text/html": [],
      "text/plain": [
       "<IPython.core.display.HTML object>"
      ]
     },
     "metadata": {
      "tags": []
     },
     "output_type": "display_data"
    },
    {
     "data": {
      "text/html": [],
      "text/plain": [
       "<IPython.core.display.HTML object>"
      ]
     },
     "metadata": {
      "tags": []
     },
     "output_type": "display_data"
    },
    {
     "data": {
      "text/html": [],
      "text/plain": [
       "<IPython.core.display.HTML object>"
      ]
     },
     "metadata": {
      "tags": []
     },
     "output_type": "display_data"
    },
    {
     "data": {
      "text/html": [],
      "text/plain": [
       "<IPython.core.display.HTML object>"
      ]
     },
     "metadata": {
      "tags": []
     },
     "output_type": "display_data"
    },
    {
     "data": {
      "text/html": [],
      "text/plain": [
       "<IPython.core.display.HTML object>"
      ]
     },
     "metadata": {
      "tags": []
     },
     "output_type": "display_data"
    },
    {
     "data": {
      "text/html": [],
      "text/plain": [
       "<IPython.core.display.HTML object>"
      ]
     },
     "metadata": {
      "tags": []
     },
     "output_type": "display_data"
    },
    {
     "data": {
      "text/html": [],
      "text/plain": [
       "<IPython.core.display.HTML object>"
      ]
     },
     "metadata": {
      "tags": []
     },
     "output_type": "display_data"
    },
    {
     "data": {
      "text/html": [],
      "text/plain": [
       "<IPython.core.display.HTML object>"
      ]
     },
     "metadata": {
      "tags": []
     },
     "output_type": "display_data"
    },
    {
     "data": {
      "text/html": [],
      "text/plain": [
       "<IPython.core.display.HTML object>"
      ]
     },
     "metadata": {
      "tags": []
     },
     "output_type": "display_data"
    },
    {
     "data": {
      "text/html": [],
      "text/plain": [
       "<IPython.core.display.HTML object>"
      ]
     },
     "metadata": {
      "tags": []
     },
     "output_type": "display_data"
    },
    {
     "data": {
      "text/html": [],
      "text/plain": [
       "<IPython.core.display.HTML object>"
      ]
     },
     "metadata": {
      "tags": []
     },
     "output_type": "display_data"
    },
    {
     "data": {
      "text/html": [],
      "text/plain": [
       "<IPython.core.display.HTML object>"
      ]
     },
     "metadata": {
      "tags": []
     },
     "output_type": "display_data"
    },
    {
     "data": {
      "text/html": [],
      "text/plain": [
       "<IPython.core.display.HTML object>"
      ]
     },
     "metadata": {
      "tags": []
     },
     "output_type": "display_data"
    },
    {
     "data": {
      "text/html": [],
      "text/plain": [
       "<IPython.core.display.HTML object>"
      ]
     },
     "metadata": {
      "tags": []
     },
     "output_type": "display_data"
    },
    {
     "data": {
      "text/html": [],
      "text/plain": [
       "<IPython.core.display.HTML object>"
      ]
     },
     "metadata": {
      "tags": []
     },
     "output_type": "display_data"
    },
    {
     "data": {
      "text/html": [],
      "text/plain": [
       "<IPython.core.display.HTML object>"
      ]
     },
     "metadata": {
      "tags": []
     },
     "output_type": "display_data"
    },
    {
     "data": {
      "text/html": [],
      "text/plain": [
       "<IPython.core.display.HTML object>"
      ]
     },
     "metadata": {
      "tags": []
     },
     "output_type": "display_data"
    },
    {
     "data": {
      "text/html": [],
      "text/plain": [
       "<IPython.core.display.HTML object>"
      ]
     },
     "metadata": {
      "tags": []
     },
     "output_type": "display_data"
    },
    {
     "data": {
      "text/html": [],
      "text/plain": [
       "<IPython.core.display.HTML object>"
      ]
     },
     "metadata": {
      "tags": []
     },
     "output_type": "display_data"
    },
    {
     "data": {
      "text/html": [],
      "text/plain": [
       "<IPython.core.display.HTML object>"
      ]
     },
     "metadata": {
      "tags": []
     },
     "output_type": "display_data"
    },
    {
     "data": {
      "text/html": [],
      "text/plain": [
       "<IPython.core.display.HTML object>"
      ]
     },
     "metadata": {
      "tags": []
     },
     "output_type": "display_data"
    },
    {
     "data": {
      "text/html": [],
      "text/plain": [
       "<IPython.core.display.HTML object>"
      ]
     },
     "metadata": {
      "tags": []
     },
     "output_type": "display_data"
    },
    {
     "data": {
      "text/html": [],
      "text/plain": [
       "<IPython.core.display.HTML object>"
      ]
     },
     "metadata": {
      "tags": []
     },
     "output_type": "display_data"
    }
   ],
   "source": [
    "Y_pred_h = []\n",
    "for i in range(100):\n",
    "  Y_pred_h.append(encode(predictor.predict(train['text'].loc[i])))"
   ]
  },
  {
   "cell_type": "code",
   "execution_count": 103,
   "metadata": {
    "colab": {
     "base_uri": "https://localhost:8080/",
     "height": 34
    },
    "colab_type": "code",
    "id": "Fo1IoJ-OXCKA",
    "outputId": "2a4ca5fc-6668-43ff-893d-dc3227f26cd5"
   },
   "outputs": [
    {
     "data": {
      "text/plain": [
       "100"
      ]
     },
     "execution_count": 103,
     "metadata": {
      "tags": []
     },
     "output_type": "execute_result"
    }
   ],
   "source": [
    "len(Y_pred_h)"
   ]
  },
  {
   "cell_type": "code",
   "execution_count": 104,
   "metadata": {
    "colab": {},
    "colab_type": "code",
    "id": "vbCx6UcbX_Cf"
   },
   "outputs": [],
   "source": [
    "for i in range(len(Y_pred_h)):\n",
    "  Y_pred_h[i] = int(Y_pred_h[i])"
   ]
  },
  {
   "cell_type": "code",
   "execution_count": 105,
   "metadata": {
    "colab": {},
    "colab_type": "code",
    "id": "ISO-s_b2KVF6"
   },
   "outputs": [],
   "source": [
    "from sklearn.metrics import confusion_matrix, classification_report\n",
    "cm = confusion_matrix(Y_pred_h, train['target'].loc[:99])"
   ]
  },
  {
   "cell_type": "code",
   "execution_count": 106,
   "metadata": {
    "colab": {
     "base_uri": "https://localhost:8080/",
     "height": 85
    },
    "colab_type": "code",
    "id": "Pfz5nFBDX5zm",
    "outputId": "532ece35-e842-44ca-f256-210621568577"
   },
   "outputs": [
    {
     "data": {
      "text/plain": [
       "array([[ 0,  0,  0,  0],\n",
       "       [ 0,  0,  0,  0],\n",
       "       [ 0,  0,  0,  0],\n",
       "       [30, 21, 26, 23]])"
      ]
     },
     "execution_count": 106,
     "metadata": {
      "tags": []
     },
     "output_type": "execute_result"
    }
   ],
   "source": [
    "cm"
   ]
  },
  {
   "cell_type": "code",
   "execution_count": 108,
   "metadata": {
    "colab": {
     "base_uri": "https://localhost:8080/",
     "height": 204
    },
    "colab_type": "code",
    "id": "FqkO52CWYggt",
    "outputId": "7d9a45d3-5915-42fd-f12c-06d691bbe8cb"
   },
   "outputs": [
    {
     "name": "stdout",
     "output_type": "stream",
     "text": [
      "              precision    recall  f1-score   support\n",
      "\n",
      "           0       0.00      0.00      0.00         0\n",
      "           1       0.00      0.00      0.00         0\n",
      "           2       0.00      0.00      0.00         0\n",
      "           3       1.00      0.23      0.37       100\n",
      "\n",
      "    accuracy                           0.23       100\n",
      "   macro avg       0.25      0.06      0.09       100\n",
      "weighted avg       1.00      0.23      0.37       100\n",
      "\n"
     ]
    }
   ],
   "source": [
    "print(classification_report(Y_pred_h, train['target'].loc[:99]))"
   ]
  },
  {
   "cell_type": "code",
   "execution_count": 90,
   "metadata": {
    "colab": {},
    "colab_type": "code",
    "id": "_embVfFyZ54M"
   },
   "outputs": [],
   "source": [
    "c = [('0', 0.26339102), ('1', 0.47766337), ('2', 0.57027733), ('3', 0.26930683)]"
   ]
  },
  {
   "cell_type": "code",
   "execution_count": 96,
   "metadata": {
    "colab": {
     "base_uri": "https://localhost:8080/",
     "height": 34
    },
    "colab_type": "code",
    "id": "dRAgCUpoaMQ2",
    "outputId": "c9754620-9827-4dcc-fd48-5595f57b9221"
   },
   "outputs": [
    {
     "data": {
      "text/plain": [
       "['3', 0.57027733]"
      ]
     },
     "execution_count": 96,
     "metadata": {
      "tags": []
     },
     "output_type": "execute_result"
    }
   ],
   "source": [
    "b"
   ]
  },
  {
   "cell_type": "code",
   "execution_count": 94,
   "metadata": {
    "colab": {
     "base_uri": "https://localhost:8080/",
     "height": 34
    },
    "colab_type": "code",
    "id": "fU-KIWHbdIUN",
    "outputId": "62103bc2-c491-44d3-e46e-253780a69103"
   },
   "outputs": [
    {
     "data": {
      "text/plain": [
       "0.26930683"
      ]
     },
     "execution_count": 94,
     "metadata": {
      "tags": []
     },
     "output_type": "execute_result"
    }
   ],
   "source": [
    "max(c)[1]"
   ]
  },
  {
   "cell_type": "code",
   "execution_count": null,
   "metadata": {
    "colab": {},
    "colab_type": "code",
    "id": "AO1DlaQBeopt"
   },
   "outputs": [],
   "source": []
  }
 ],
 "metadata": {
  "colab": {
   "name": "baseline_model.ipynb",
   "provenance": []
  },
  "kernelspec": {
   "display_name": "Python 3",
   "language": "python",
   "name": "python3"
  },
  "language_info": {
   "codemirror_mode": {
    "name": "ipython",
    "version": 3
   },
   "file_extension": ".py",
   "mimetype": "text/x-python",
   "name": "python",
   "nbconvert_exporter": "python",
   "pygments_lexer": "ipython3",
   "version": "3.7.6"
  }
 },
 "nbformat": 4,
 "nbformat_minor": 1
}
