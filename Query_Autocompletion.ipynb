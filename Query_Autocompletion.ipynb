{
  "nbformat": 4,
  "nbformat_minor": 0,
  "metadata": {
    "colab": {
      "name": " Query Autocompletion.ipynb",
      "provenance": []
    },
    "kernelspec": {
      "name": "python3",
      "display_name": "Python 3"
    }
  },
  "cells": [
    {
      "cell_type": "code",
      "metadata": {
        "id": "C4hFSclUpuvb",
        "colab_type": "code",
        "colab": {
          "base_uri": "https://localhost:8080/",
          "height": 122
        },
        "outputId": "193c61ae-4b61-45e7-b9d6-2dcd2c12699a"
      },
      "source": [
        "pip install rank_bm25"
      ],
      "execution_count": 1,
      "outputs": [
        {
          "output_type": "stream",
          "text": [
            "Collecting rank_bm25\n",
            "  Downloading https://files.pythonhosted.org/packages/16/5a/23ed3132063a0684ea66fb410260c71c4ffda3b99f8f1c021d1e245401b5/rank_bm25-0.2.1-py3-none-any.whl\n",
            "Requirement already satisfied: numpy in /usr/local/lib/python3.6/dist-packages (from rank_bm25) (1.18.5)\n",
            "Installing collected packages: rank-bm25\n",
            "Successfully installed rank-bm25-0.2.1\n"
          ],
          "name": "stdout"
        }
      ]
    },
    {
      "cell_type": "code",
      "metadata": {
        "id": "THcOe2SHpmLT",
        "colab_type": "code",
        "colab": {}
      },
      "source": [
        "from rank_bm25 import BM25Okapi\n",
        "import pandas as pd\n",
        "import re"
      ],
      "execution_count": 1,
      "outputs": []
    },
    {
      "cell_type": "code",
      "metadata": {
        "id": "lQQPhLK2ppNS",
        "colab_type": "code",
        "colab": {}
      },
      "source": [
        "def preprocess(x):\n",
        "    try:\n",
        "        tk_x = x.lower()\n",
        "\n",
        "        # list of characters which needs to be replaced with space\n",
        "        space_replace_chars = ['?', ':', ',', '\"', '[', ']', '~', '*', ';', '!', '?', '(', ')', '{', '}', '@', '$',\n",
        "                               '#', '.', '-', '/']\n",
        "        tk_x = tk_x.translate({ord(x): ' ' for x in space_replace_chars})\n",
        "\n",
        "        non_space_replace_chars = [\"'\"]\n",
        "        tk_x = tk_x.translate({ord(x): '' for x in non_space_replace_chars})\n",
        "\n",
        "        # remove non-ASCII chars\n",
        "        tk_x = ''.join([c if ord(c) < 128 else '' for c in tk_x])\n",
        "\n",
        "        # replace all consecutive spaces with one space\n",
        "        tk_x = re.sub('\\s+', ' ', tk_x).strip()\n",
        "        return tk_x.strip().lower()\n",
        "    except:\n",
        "        return \"\""
      ],
      "execution_count": 2,
      "outputs": []
    },
    {
      "cell_type": "code",
      "metadata": {
        "id": "JXV9MoHLQZU4",
        "colab_type": "code",
        "colab": {}
      },
      "source": [
        "df = pd.read_excel('ATOM Discovery_FAQ vs ATOM.xlsx')"
      ],
      "execution_count": 3,
      "outputs": []
    },
    {
      "cell_type": "code",
      "metadata": {
        "id": "Fa5_gyiDY5SZ",
        "colab_type": "code",
        "colab": {
          "base_uri": "https://localhost:8080/",
          "height": 51
        },
        "outputId": "fac4ee9b-9fc6-4393-85d6-39415c4a50b7"
      },
      "source": [
        "product = input()\n",
        "country = input()"
      ],
      "execution_count": 4,
      "outputs": [
        {
          "output_type": "stream",
          "text": [
            "Atorvastin\n",
            "Argentina\n"
          ],
          "name": "stdout"
        }
      ]
    },
    {
      "cell_type": "code",
      "metadata": {
        "id": "A3yVjgCF1rsm",
        "colab_type": "code",
        "colab": {}
      },
      "source": [
        "for i in df['product'].to_list():\n",
        "    if i == product:\n",
        "        p=i\n",
        "        break\n",
        "    else:\n",
        "        p='NA'"
      ],
      "execution_count": 5,
      "outputs": []
    },
    {
      "cell_type": "code",
      "metadata": {
        "id": "2gt-Fnmh2Eht",
        "colab_type": "code",
        "colab": {}
      },
      "source": [
        "for ii in df['country'].to_list():\n",
        "    if ii == country:\n",
        "        c=ii\n",
        "        break\n",
        "    else:\n",
        "        c='NA'"
      ],
      "execution_count": 6,
      "outputs": []
    },
    {
      "cell_type": "code",
      "metadata": {
        "id": "1DoeSJiS2PoK",
        "colab_type": "code",
        "colab": {}
      },
      "source": [
        "df_l = df.loc[df['product']==p]\n",
        "df_l.reset_index(drop=True,inplace=True)"
      ],
      "execution_count": 7,
      "outputs": []
    },
    {
      "cell_type": "code",
      "metadata": {
        "id": "olsAjJVB2gXt",
        "colab_type": "code",
        "colab": {}
      },
      "source": [
        "#country based filter\n",
        "if c != 'NA':\n",
        "    df_l = df_l.loc[df_l['country']==c]\n",
        "    df_l.reset_index(drop=True,inplace=True)\n",
        "else:\n",
        "    pass"
      ],
      "execution_count": 8,
      "outputs": []
    },
    {
      "cell_type": "code",
      "metadata": {
        "id": "kKQpdT1Xptn8",
        "colab_type": "code",
        "colab": {}
      },
      "source": [
        "df_l = df_l['Possible Questions'].to_list()\n",
        "df_l = [preprocess(x) for x in df_l]\n",
        "tokenized_corpus = [doc.split(\" \") for doc in df_l]"
      ],
      "execution_count": 9,
      "outputs": []
    },
    {
      "cell_type": "code",
      "metadata": {
        "id": "NSnM7894qEH7",
        "colab_type": "code",
        "colab": {}
      },
      "source": [
        "for i,item in enumerate(tokenized_corpus):\n",
        "    item = [x for x  in item if len(x)>0]\n",
        "    tokenized_corpus[i] = item"
      ],
      "execution_count": 10,
      "outputs": []
    },
    {
      "cell_type": "code",
      "metadata": {
        "id": "6p5i8s45qJtX",
        "colab_type": "code",
        "colab": {}
      },
      "source": [
        "bm25 = BM25Okapi(tokenized_corpus)"
      ],
      "execution_count": 12,
      "outputs": []
    },
    {
      "cell_type": "code",
      "metadata": {
        "id": "I7PHDw7XqOIZ",
        "colab_type": "code",
        "colab": {
          "base_uri": "https://localhost:8080/",
          "height": 102
        },
        "outputId": "7ff535c9-5fad-46a7-bd59-40dee1200960"
      },
      "source": [
        "query = \"what is the absorbtion\"\n",
        "tokenized_query = query.split(\" \")\n",
        "doc_scores = bm25.get_scores(tokenized_query)\n",
        "bm25.get_top_n(tokenized_query, df_l)  ###   n = 5(default)\n"
      ],
      "execution_count": 13,
      "outputs": [
        {
          "output_type": "execute_result",
          "data": {
            "text/plain": [
              "['what is the atorvastin calcium absorbtion rate',\n",
              " 'what is the atorvastin calcium absorbtion rate in argentina',\n",
              " 'what is the absolute bioavailability of atorvastin',\n",
              " 'what is the absolute bioavailability of atorvastin in argentina',\n",
              " 'what is the mean volume of distribution of atorvastatin']"
            ]
          },
          "metadata": {
            "tags": []
          },
          "execution_count": 13
        }
      ]
    },
    {
      "cell_type": "code",
      "metadata": {
        "id": "aJK_7EHGsBxp",
        "colab_type": "code",
        "colab": {
          "base_uri": "https://localhost:8080/",
          "height": 102
        },
        "outputId": "1d7ba79f-bcde-43c6-c421-290d462dc857"
      },
      "source": [
        "query = \"what is the bioavailability\"\n",
        "tokenized_query = query.split(\" \")\n",
        "doc_scores = bm25.get_scores(tokenized_query)\n",
        "bm25.get_top_n(tokenized_query, df_l)  ###   n = 5(default)\n"
      ],
      "execution_count": 14,
      "outputs": [
        {
          "output_type": "execute_result",
          "data": {
            "text/plain": [
              "['what is the absolute bioavailability of atorvastin',\n",
              " 'what is the absolute bioavailability of atorvastin in argentina',\n",
              " 'what is the atorvastin calcium absorbtion rate',\n",
              " 'what is the atorvastin calcium absorbtion rate in argentina',\n",
              " 'what is the mean volume of distribution of atorvastatin']"
            ]
          },
          "metadata": {
            "tags": []
          },
          "execution_count": 14
        }
      ]
    },
    {
      "cell_type": "code",
      "metadata": {
        "id": "tjItSbDrsovf",
        "colab_type": "code",
        "colab": {
          "base_uri": "https://localhost:8080/",
          "height": 102
        },
        "outputId": "c7b3e5ac-cc17-4de8-cb88-84fc9794c226"
      },
      "source": [
        "query = \"how does hemodialysis\"\n",
        "tokenized_query = query.split(\" \")\n",
        "doc_scores = bm25.get_scores(tokenized_query)\n",
        "bm25.get_top_n(tokenized_query, df_l)  ###   n = 5(default)\n"
      ],
      "execution_count": 15,
      "outputs": [
        {
          "output_type": "execute_result",
          "data": {
            "text/plain": [
              "['how does hemodialysis help in the clearance of atorvastin calcium',\n",
              " 'how does hemodialysis help in the clearance of atorvastin calcium in argentina',\n",
              " 'how does renal disease effect the plasma concentration of atorvastin calcium',\n",
              " 'how does renal disease effect the plasma concentration of atorvastin calcium in argentina',\n",
              " 'how does plasma concentration of atrovastin calcium differ in elderly and young adults patients']"
            ]
          },
          "metadata": {
            "tags": []
          },
          "execution_count": 15
        }
      ]
    },
    {
      "cell_type": "code",
      "metadata": {
        "id": "XYUPk4Ids1Fu",
        "colab_type": "code",
        "colab": {
          "base_uri": "https://localhost:8080/",
          "height": 102
        },
        "outputId": "857ab9ea-31bd-4567-c1b5-5c250d36fbda"
      },
      "source": [
        "query = \"In what form is Norvasc \"\n",
        "tokenized_query = query.split(\" \")\n",
        "doc_scores = bm25.get_scores(tokenized_query)\n",
        "bm25.get_top_n(tokenized_query, df_l)  ###   n = 5(default)\n"
      ],
      "execution_count": 16,
      "outputs": [
        {
          "output_type": "execute_result",
          "data": {
            "text/plain": [
              "['what is the atorvastin calcium absorbtion rate',\n",
              " 'what is the absolute bioavailability of atorvastin',\n",
              " 'what is the atorvastin calcium absorbtion rate in argentina',\n",
              " 'what is the absolute bioavailability of atorvastin in argentina',\n",
              " 'what is the mean volume of distribution of atorvastatin']"
            ]
          },
          "metadata": {
            "tags": []
          },
          "execution_count": 16
        }
      ]
    },
    {
      "cell_type": "code",
      "metadata": {
        "id": "1u_hzDNztEAu",
        "colab_type": "code",
        "colab": {
          "base_uri": "https://localhost:8080/",
          "height": 102
        },
        "outputId": "a6a0663a-f425-43e1-9e76-9bb20a1e3797"
      },
      "source": [
        "query = \"How should Norvasc  \"\n",
        "tokenized_query = query.split(\" \")\n",
        "doc_scores = bm25.get_scores(tokenized_query)\n",
        "bm25.get_top_n(tokenized_query, df_l)  ###   n = 5(default)\n"
      ],
      "execution_count": 17,
      "outputs": [
        {
          "output_type": "execute_result",
          "data": {
            "text/plain": [
              "['how does hemodialysis help in the clearance of atorvastin calcium in argentina',\n",
              " 'how does hemodialysis help in the clearance of atorvastin calcium',\n",
              " 'what is the absolute bioavailability of atorvastin',\n",
              " 'how is the low systemic availability attributed to pre systemic clearance in gastrointestinal mucosa in atorvastin',\n",
              " 'what is the atorvastin calcium absorbtion rate in argentina']"
            ]
          },
          "metadata": {
            "tags": []
          },
          "execution_count": 17
        }
      ]
    },
    {
      "cell_type": "code",
      "metadata": {
        "id": "zNC2GiI-tUND",
        "colab_type": "code",
        "colab": {}
      },
      "source": [
        ""
      ],
      "execution_count": null,
      "outputs": []
    }
  ]
}