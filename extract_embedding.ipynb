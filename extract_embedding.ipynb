{
  "nbformat": 4,
  "nbformat_minor": 0,
  "metadata": {
    "kernelspec": {
      "display_name": "Python 3",
      "language": "python",
      "name": "python3"
    },
    "language_info": {
      "codemirror_mode": {
        "name": "ipython",
        "version": 3
      },
      "file_extension": ".py",
      "mimetype": "text/x-python",
      "name": "python",
      "nbconvert_exporter": "python",
      "pygments_lexer": "ipython3",
      "version": "3.7.4"
    },
    "colab": {
      "name": "extract-embedding.ipynb",
      "provenance": []
    }
  },
  "cells": [
    {
      "cell_type": "code",
      "metadata": {
        "id": "SLI7a9x9AaEu",
        "colab_type": "code",
        "outputId": "0fd930f2-6e64-4c24-ee8d-0e51426f58d2",
        "colab": {
          "base_uri": "https://localhost:8080/",
          "height": 238
        }
      },
      "source": [
        "pip uninstall tensorflow"
      ],
      "execution_count": 1,
      "outputs": [
        {
          "output_type": "stream",
          "text": [
            "Uninstalling tensorflow-2.2.0:\n",
            "  Would remove:\n",
            "    /usr/local/bin/estimator_ckpt_converter\n",
            "    /usr/local/bin/saved_model_cli\n",
            "    /usr/local/bin/tensorboard\n",
            "    /usr/local/bin/tf_upgrade_v2\n",
            "    /usr/local/bin/tflite_convert\n",
            "    /usr/local/bin/toco\n",
            "    /usr/local/bin/toco_from_protos\n",
            "    /usr/local/lib/python3.6/dist-packages/tensorflow-2.2.0.dist-info/*\n",
            "    /usr/local/lib/python3.6/dist-packages/tensorflow/*\n",
            "Proceed (y/n)? y\n",
            "  Successfully uninstalled tensorflow-2.2.0\n"
          ],
          "name": "stdout"
        }
      ]
    },
    {
      "cell_type": "code",
      "metadata": {
        "id": "jHuc5kwCAYwx",
        "colab_type": "code",
        "outputId": "4805065a-a637-4f10-dd94-5b540aa6c9dc",
        "colab": {
          "base_uri": "https://localhost:8080/",
          "height": 649
        }
      },
      "source": [
        "pip install tensorflow==1.13.2"
      ],
      "execution_count": 2,
      "outputs": [
        {
          "output_type": "stream",
          "text": [
            "Collecting tensorflow==1.13.2\n",
            "\u001b[?25l  Downloading https://files.pythonhosted.org/packages/db/d3/651f95288a6cd9094f7411cdd90ef12a3d01a268009e0e3cd66b5c8d65bd/tensorflow-1.13.2-cp36-cp36m-manylinux1_x86_64.whl (92.6MB)\n",
            "\u001b[K     |████████████████████████████████| 92.6MB 70kB/s \n",
            "\u001b[?25hRequirement already satisfied: termcolor>=1.1.0 in /usr/local/lib/python3.6/dist-packages (from tensorflow==1.13.2) (1.1.0)\n",
            "Collecting tensorboard<1.14.0,>=1.13.0\n",
            "\u001b[?25l  Downloading https://files.pythonhosted.org/packages/0f/39/bdd75b08a6fba41f098b6cb091b9e8c7a80e1b4d679a581a0ccd17b10373/tensorboard-1.13.1-py3-none-any.whl (3.2MB)\n",
            "\u001b[K     |████████████████████████████████| 3.2MB 47.7MB/s \n",
            "\u001b[?25hRequirement already satisfied: gast>=0.2.0 in /usr/local/lib/python3.6/dist-packages (from tensorflow==1.13.2) (0.3.3)\n",
            "Requirement already satisfied: keras-preprocessing>=1.0.5 in /usr/local/lib/python3.6/dist-packages (from tensorflow==1.13.2) (1.1.2)\n",
            "Requirement already satisfied: protobuf>=3.6.1 in /usr/local/lib/python3.6/dist-packages (from tensorflow==1.13.2) (3.10.0)\n",
            "Requirement already satisfied: grpcio>=1.8.6 in /usr/local/lib/python3.6/dist-packages (from tensorflow==1.13.2) (1.29.0)\n",
            "Requirement already satisfied: wheel>=0.26 in /usr/local/lib/python3.6/dist-packages (from tensorflow==1.13.2) (0.34.2)\n",
            "Collecting tensorflow-estimator<1.14.0rc0,>=1.13.0\n",
            "\u001b[?25l  Downloading https://files.pythonhosted.org/packages/bb/48/13f49fc3fa0fdf916aa1419013bb8f2ad09674c275b4046d5ee669a46873/tensorflow_estimator-1.13.0-py2.py3-none-any.whl (367kB)\n",
            "\u001b[K     |████████████████████████████████| 368kB 46.7MB/s \n",
            "\u001b[?25hRequirement already satisfied: astor>=0.6.0 in /usr/local/lib/python3.6/dist-packages (from tensorflow==1.13.2) (0.8.1)\n",
            "Requirement already satisfied: keras-applications>=1.0.6 in /usr/local/lib/python3.6/dist-packages (from tensorflow==1.13.2) (1.0.8)\n",
            "Requirement already satisfied: six>=1.10.0 in /usr/local/lib/python3.6/dist-packages (from tensorflow==1.13.2) (1.12.0)\n",
            "Requirement already satisfied: absl-py>=0.1.6 in /usr/local/lib/python3.6/dist-packages (from tensorflow==1.13.2) (0.9.0)\n",
            "Requirement already satisfied: numpy<2.0,>=1.16.0 in /usr/local/lib/python3.6/dist-packages (from tensorflow==1.13.2) (1.18.5)\n",
            "Requirement already satisfied: werkzeug>=0.11.15 in /usr/local/lib/python3.6/dist-packages (from tensorboard<1.14.0,>=1.13.0->tensorflow==1.13.2) (1.0.1)\n",
            "Requirement already satisfied: markdown>=2.6.8 in /usr/local/lib/python3.6/dist-packages (from tensorboard<1.14.0,>=1.13.0->tensorflow==1.13.2) (3.2.2)\n",
            "Requirement already satisfied: setuptools in /usr/local/lib/python3.6/dist-packages (from protobuf>=3.6.1->tensorflow==1.13.2) (47.1.1)\n",
            "Collecting mock>=2.0.0\n",
            "  Downloading https://files.pythonhosted.org/packages/cd/74/d72daf8dff5b6566db857cfd088907bb0355f5dd2914c4b3ef065c790735/mock-4.0.2-py3-none-any.whl\n",
            "Requirement already satisfied: h5py in /usr/local/lib/python3.6/dist-packages (from keras-applications>=1.0.6->tensorflow==1.13.2) (2.10.0)\n",
            "Requirement already satisfied: importlib-metadata; python_version < \"3.8\" in /usr/local/lib/python3.6/dist-packages (from markdown>=2.6.8->tensorboard<1.14.0,>=1.13.0->tensorflow==1.13.2) (1.6.0)\n",
            "Requirement already satisfied: zipp>=0.5 in /usr/local/lib/python3.6/dist-packages (from importlib-metadata; python_version < \"3.8\"->markdown>=2.6.8->tensorboard<1.14.0,>=1.13.0->tensorflow==1.13.2) (3.1.0)\n",
            "Installing collected packages: tensorboard, mock, tensorflow-estimator, tensorflow\n",
            "  Found existing installation: tensorboard 2.2.2\n",
            "    Uninstalling tensorboard-2.2.2:\n",
            "      Successfully uninstalled tensorboard-2.2.2\n",
            "  Found existing installation: tensorflow-estimator 2.2.0\n",
            "    Uninstalling tensorflow-estimator-2.2.0:\n",
            "      Successfully uninstalled tensorflow-estimator-2.2.0\n",
            "Successfully installed mock-4.0.2 tensorboard-1.13.1 tensorflow-1.13.2 tensorflow-estimator-1.13.0\n"
          ],
          "name": "stdout"
        }
      ]
    },
    {
      "cell_type": "code",
      "metadata": {
        "id": "lb4z0f6iq8ug",
        "colab_type": "code",
        "outputId": "43a1b6bc-6e5a-4d8e-ab3a-e269a6fe215b",
        "colab": {
          "base_uri": "https://localhost:8080/",
          "height": 241
        }
      },
      "source": [
        "import tensorflow as tf\n",
        "import numpy as np\n",
        "import os\n",
        "from sklearn.metrics.pairwise import cosine_similarity\n",
        "from tensorflow.contrib import learn"
      ],
      "execution_count": 3,
      "outputs": [
        {
          "output_type": "stream",
          "text": [
            "/usr/local/lib/python3.6/dist-packages/tensorflow/python/framework/dtypes.py:526: FutureWarning: Passing (type, 1) or '1type' as a synonym of type is deprecated; in a future version of numpy, it will be understood as (type, (1,)) / '(1,)type'.\n",
            "  _np_qint8 = np.dtype([(\"qint8\", np.int8, 1)])\n",
            "/usr/local/lib/python3.6/dist-packages/tensorflow/python/framework/dtypes.py:527: FutureWarning: Passing (type, 1) or '1type' as a synonym of type is deprecated; in a future version of numpy, it will be understood as (type, (1,)) / '(1,)type'.\n",
            "  _np_quint8 = np.dtype([(\"quint8\", np.uint8, 1)])\n",
            "/usr/local/lib/python3.6/dist-packages/tensorflow/python/framework/dtypes.py:528: FutureWarning: Passing (type, 1) or '1type' as a synonym of type is deprecated; in a future version of numpy, it will be understood as (type, (1,)) / '(1,)type'.\n",
            "  _np_qint16 = np.dtype([(\"qint16\", np.int16, 1)])\n",
            "/usr/local/lib/python3.6/dist-packages/tensorflow/python/framework/dtypes.py:529: FutureWarning: Passing (type, 1) or '1type' as a synonym of type is deprecated; in a future version of numpy, it will be understood as (type, (1,)) / '(1,)type'.\n",
            "  _np_quint16 = np.dtype([(\"quint16\", np.uint16, 1)])\n",
            "/usr/local/lib/python3.6/dist-packages/tensorflow/python/framework/dtypes.py:530: FutureWarning: Passing (type, 1) or '1type' as a synonym of type is deprecated; in a future version of numpy, it will be understood as (type, (1,)) / '(1,)type'.\n",
            "  _np_qint32 = np.dtype([(\"qint32\", np.int32, 1)])\n",
            "/usr/local/lib/python3.6/dist-packages/tensorflow/python/framework/dtypes.py:535: FutureWarning: Passing (type, 1) or '1type' as a synonym of type is deprecated; in a future version of numpy, it will be understood as (type, (1,)) / '(1,)type'.\n",
            "  np_resource = np.dtype([(\"resource\", np.ubyte, 1)])\n"
          ],
          "name": "stderr"
        }
      ]
    },
    {
      "cell_type": "code",
      "metadata": {
        "id": "U579xjK_q8um",
        "colab_type": "code",
        "colab": {}
      },
      "source": [
        "# Input: Product description\n",
        "proudct_description = \"Should I buy tiago?\""
      ],
      "execution_count": 0,
      "outputs": []
    },
    {
      "cell_type": "code",
      "metadata": {
        "id": "0UQFczXAq8uq",
        "colab_type": "code",
        "colab": {}
      },
      "source": [
        "# Absolute path to pre-trained model\n",
        "model_path = '/content/model_triplet'"
      ],
      "execution_count": 0,
      "outputs": []
    },
    {
      "cell_type": "code",
      "metadata": {
        "id": "tA8eBcEBq8ut",
        "colab_type": "code",
        "colab": {}
      },
      "source": [
        "\n",
        "def model_output(feed_data):\n",
        "    checkpoint_file = tf.train.latest_checkpoint(model_path)\n",
        "    graph = tf.Graph()\n",
        "    with graph.as_default():\n",
        "        sess = tf.Session()\n",
        "        with sess.as_default():\n",
        "            # Load the saved meta graph and restore variables\n",
        "            saver = tf.train.import_meta_graph(\"{}.meta\".format(checkpoint_file))\n",
        "            saver.restore(sess, checkpoint_file)\n",
        "\n",
        "            # Get the placeholders from the graph by name\n",
        "            anchor_input = graph.get_operation_by_name(\"left_input\").outputs[0]\n",
        "\n",
        "            # Tensors we want to evaluate\n",
        "            predictions = graph.get_operation_by_name(\"output/output_embedding\").outputs[0]\n",
        "\n",
        "            # Collect the predictions here\n",
        "            all_predictions = []\n",
        "\n",
        "            batch_predictions = sess.run(predictions, {anchor_input: feed_data})\n",
        "    return batch_predictions"
      ],
      "execution_count": 0,
      "outputs": []
    },
    {
      "cell_type": "code",
      "metadata": {
        "id": "HF3Z7YDgq8uy",
        "colab_type": "code",
        "colab": {}
      },
      "source": [
        "vocab_processor = learn.preprocessing.VocabularyProcessor.restore(os.path.join(model_path,'vocab'))\n",
        "query = list(proudct_description.lower())\n",
        "input_queries = np.asarray(list(vocab_processor.fit_transform(query)))"
      ],
      "execution_count": 0,
      "outputs": []
    },
    {
      "cell_type": "code",
      "metadata": {
        "id": "CqRv7pAjq8u3",
        "colab_type": "code",
        "outputId": "725f5a59-2430-43e6-95dd-928452d6125a",
        "colab": {
          "base_uri": "https://localhost:8080/",
          "height": 34
        }
      },
      "source": [
        "# Embeddings output. If you want to use this embedding to calculate Cosine Similariy use normalized_search_vec otherwise use search_vec\n",
        "search_vector = model_output([input_queries[0]])\n",
        "normalized_search_vec = search_vector/np.linalg.norm(search_vector)\n",
        "# normalized item embedding\n",
        "sentence_1 = normalized_search_vec"
      ],
      "execution_count": 11,
      "outputs": [
        {
          "output_type": "stream",
          "text": [
            "INFO:tensorflow:Restoring parameters from /content/model_triplet/model.ckpt\n"
          ],
          "name": "stdout"
        }
      ]
    },
    {
      "cell_type": "code",
      "metadata": {
        "id": "XnBW1TEQq8u7",
        "colab_type": "code",
        "outputId": "50e4dc02-bce9-495d-c89a-415a17e31c5f",
        "colab": {
          "base_uri": "https://localhost:8080/",
          "height": 34
        }
      },
      "source": [
        "#query\n",
        "description = \"I'm a triple Capricorn\"\n",
        "queryy = list(description.lower())\n",
        "input_queriess = np.asarray(list(vocab_processor.fit_transform(queryy)))\n",
        "search_vectorr = model_output([input_queriess[0]])\n",
        "sentence_2 = search_vectorr/np.linalg.norm(search_vectorr)"
      ],
      "execution_count": 12,
      "outputs": [
        {
          "output_type": "stream",
          "text": [
            "INFO:tensorflow:Restoring parameters from /content/model_triplet/model.ckpt\n"
          ],
          "name": "stdout"
        }
      ]
    },
    {
      "cell_type": "code",
      "metadata": {
        "id": "HFZMDdVlq8u_",
        "colab_type": "code",
        "outputId": "4e43a3f4-8aec-4524-b47b-7bfacca972f0",
        "colab": {
          "base_uri": "https://localhost:8080/",
          "height": 34
        }
      },
      "source": [
        "sim =  cosine_similarity(sentence_1,sentence_2)\n",
        "sim[0][0]"
      ],
      "execution_count": 13,
      "outputs": [
        {
          "output_type": "execute_result",
          "data": {
            "text/plain": [
              "0.2429741"
            ]
          },
          "metadata": {
            "tags": []
          },
          "execution_count": 13
        }
      ]
    },
    {
      "cell_type": "code",
      "metadata": {
        "id": "Som_8JAfq8vI",
        "colab_type": "code",
        "colab": {}
      },
      "source": [
        "import pandas as pd"
      ],
      "execution_count": 0,
      "outputs": []
    },
    {
      "cell_type": "code",
      "metadata": {
        "id": "H7lA9Recmj6G",
        "colab_type": "code",
        "colab": {}
      },
      "source": [
        "dataset = pd.read_csv('SA.csv')"
      ],
      "execution_count": 0,
      "outputs": []
    },
    {
      "cell_type": "code",
      "metadata": {
        "id": "OwFrli3zpUTb",
        "colab_type": "code",
        "colab": {}
      },
      "source": [
        "def removing_bad_characters(test_string):\n",
        "   bad_chars = [';', ':', '!', \"*\",'?','\"',\"'\",'>','<','•','o','≤','â','€','¢'] \n",
        "   # remove bad_chars  \n",
        "   for i in bad_chars : \n",
        "      test_string = test_string.replace(i, '') \n",
        "   return test_string"
      ],
      "execution_count": 0,
      "outputs": []
    },
    {
      "cell_type": "code",
      "metadata": {
        "id": "-qQwNoTjpWgk",
        "colab_type": "code",
        "colab": {}
      },
      "source": [
        "similar_pairs = pd.DataFrame()\n",
        "similar_pairs['Possible Questions'] = dataset['Question'].str.lower()\n",
        "similar_pairs['Possible Questions'] = removing_bad_characters(similar_pairs['Possible Questions'])\n",
        "similar_pairs['Answer'] = dataset['Answer'].str.lower()\n",
        "similar_pairs['Answer'] = removing_bad_characters(similar_pairs['Answer'])"
      ],
      "execution_count": 0,
      "outputs": []
    },
    {
      "cell_type": "code",
      "metadata": {
        "id": "jshX8b20vDBN",
        "colab_type": "code",
        "colab": {}
      },
      "source": [
        "def removing_bad_characters(test_string):\n",
        "   bad_chars = ['\\n', '\\t'] \n",
        "   # remove bad_chars  \n",
        "   for i in bad_chars : \n",
        "      test_string = test_string.replace(i, '') \n",
        "   return test_string"
      ],
      "execution_count": 0,
      "outputs": []
    },
    {
      "cell_type": "code",
      "metadata": {
        "id": "kNiEtAFmFgrJ",
        "colab_type": "code",
        "outputId": "772e8ede-7e13-43c7-c894-5e282abe0c0f",
        "colab": {
          "base_uri": "https://localhost:8080/",
          "height": 289
        }
      },
      "source": [
        "dataset = similar_pairs\n",
        "import nltk\n",
        "from nltk.corpus import reuters\n",
        "nltk.download(\"reuters\")\n",
        "nltk.download(\"punkt\")\n",
        "max_samples = 256\n",
        "Questions = []\n",
        "True_Atom = []\n",
        "false = []\n",
        "for i in range(dataset.shape[0]):\n",
        "  Questions.append(removing_bad_characters(dataset['Possible Questions'][i]))\n",
        "  True_Atom.append(removing_bad_characters(dataset['Answer'][i]))\n",
        "S, X = [], []\n",
        "queryy = list(Questions[2].lower())\n",
        "input_queriess = np.asarray(list(vocab_processor.fit_transform(queryy)))\n",
        "search_vectorr = model_output([input_queriess[0]])\n",
        "sentence_2 = search_vectorr/np.linalg.norm(search_vectorr)\n",
        "X.append(sentence_2)\n",
        "S.append(Questions[2])\n",
        "for i in range(10):\n",
        "  queryy = list(True_Atom[i].lower())\n",
        "  input_queriess = np.asarray(list(vocab_processor.fit_transform(queryy)))\n",
        "  search_vectorr = model_output([input_queriess[0]])\n",
        "  sentence_2 = search_vectorr/np.linalg.norm(search_vectorr)\n",
        "  X.append(sentence_2)\n",
        "  S.append(True_Atom[i])\n",
        "X = np.vstack(X) \n",
        "X.shape"
      ],
      "execution_count": 37,
      "outputs": [
        {
          "output_type": "stream",
          "text": [
            "[nltk_data] Downloading package reuters to /root/nltk_data...\n",
            "[nltk_data]   Package reuters is already up-to-date!\n",
            "[nltk_data] Downloading package punkt to /root/nltk_data...\n",
            "[nltk_data]   Package punkt is already up-to-date!\n",
            "INFO:tensorflow:Restoring parameters from /content/model_triplet/model.ckpt\n",
            "INFO:tensorflow:Restoring parameters from /content/model_triplet/model.ckpt\n",
            "INFO:tensorflow:Restoring parameters from /content/model_triplet/model.ckpt\n",
            "INFO:tensorflow:Restoring parameters from /content/model_triplet/model.ckpt\n",
            "INFO:tensorflow:Restoring parameters from /content/model_triplet/model.ckpt\n",
            "INFO:tensorflow:Restoring parameters from /content/model_triplet/model.ckpt\n",
            "INFO:tensorflow:Restoring parameters from /content/model_triplet/model.ckpt\n",
            "INFO:tensorflow:Restoring parameters from /content/model_triplet/model.ckpt\n",
            "INFO:tensorflow:Restoring parameters from /content/model_triplet/model.ckpt\n",
            "INFO:tensorflow:Restoring parameters from /content/model_triplet/model.ckpt\n",
            "INFO:tensorflow:Restoring parameters from /content/model_triplet/model.ckpt\n"
          ],
          "name": "stdout"
        },
        {
          "output_type": "execute_result",
          "data": {
            "text/plain": [
              "(11, 64)"
            ]
          },
          "metadata": {
            "tags": []
          },
          "execution_count": 37
        }
      ]
    },
    {
      "cell_type": "code",
      "metadata": {
        "id": "VPt3DSP4HPoO",
        "colab_type": "code",
        "colab": {}
      },
      "source": [
        "Y=['Q',0,0,0,0,0,0,0,0,0,1]"
      ],
      "execution_count": 0,
      "outputs": []
    },
    {
      "cell_type": "code",
      "metadata": {
        "id": "fpMIq04YGMK_",
        "colab_type": "code",
        "colab": {}
      },
      "source": [
        "with open(\"metadata1.tsv\", \"w\") as fo:\n",
        "  fo.write(\"Label\\tSentence\\n\")\n",
        "  for y, s in zip(Y, S):\n",
        "    fo.write(\"{}\\t{}\\n\".format(y, s))"
      ],
      "execution_count": 0,
      "outputs": []
    },
    {
      "cell_type": "code",
      "metadata": {
        "id": "nlI5oQ1kIUde",
        "colab_type": "code",
        "colab": {}
      },
      "source": [
        "with open(\"embeddings1.tsv\", \"w\") as fo:\n",
        "  for x in X.astype('float16'):\n",
        "    line = \"\\t\".join([str(v) for v in x])\n",
        "    fo.write(line + \"\\n\")"
      ],
      "execution_count": 0,
      "outputs": []
    },
    {
      "cell_type": "code",
      "metadata": {
        "id": "iv5j3yvdrmmn",
        "colab_type": "code",
        "colab": {}
      },
      "source": [
        ""
      ],
      "execution_count": 0,
      "outputs": []
    }
  ]
}