{
  "nbformat": 4,
  "nbformat_minor": 0,
  "metadata": {
    "kernelspec": {
      "display_name": "Python 3",
      "language": "python",
      "name": "python3"
    },
    "language_info": {
      "codemirror_mode": {
        "name": "ipython",
        "version": 3
      },
      "file_extension": ".py",
      "mimetype": "text/x-python",
      "name": "python",
      "nbconvert_exporter": "python",
      "pygments_lexer": "ipython3",
      "version": "3.7.4"
    },
    "colab": {
      "name": "Negative_Sampling_faster_version.ipynb",
      "provenance": []
    }
  },
  "cells": [
    {
      "cell_type": "code",
      "metadata": {
        "id": "qsnZa835BYrJ",
        "colab_type": "code",
        "colab": {
          "base_uri": "https://localhost:8080/",
          "height": 105
        },
        "outputId": "1a661316-7e07-4841-d647-1a796c00f210"
      },
      "source": [
        "pip install fuzzywuzzy"
      ],
      "execution_count": 1,
      "outputs": [
        {
          "output_type": "stream",
          "text": [
            "Collecting fuzzywuzzy\n",
            "  Downloading https://files.pythonhosted.org/packages/43/ff/74f23998ad2f93b945c0309f825be92e04e0348e062026998b5eefef4c33/fuzzywuzzy-0.18.0-py2.py3-none-any.whl\n",
            "Installing collected packages: fuzzywuzzy\n",
            "Successfully installed fuzzywuzzy-0.18.0\n"
          ],
          "name": "stdout"
        }
      ]
    },
    {
      "cell_type": "code",
      "metadata": {
        "id": "dgB1uvJxCD-z",
        "colab_type": "code",
        "colab": {
          "base_uri": "https://localhost:8080/",
          "height": 34
        },
        "outputId": "a97fc1b7-e2e8-400b-c698-a871aa00fe6a"
      },
      "source": [
        "pip install tqdm"
      ],
      "execution_count": 2,
      "outputs": [
        {
          "output_type": "stream",
          "text": [
            "Requirement already satisfied: tqdm in /usr/local/lib/python3.6/dist-packages (4.41.1)\n"
          ],
          "name": "stdout"
        }
      ]
    },
    {
      "cell_type": "code",
      "metadata": {
        "id": "aKRVAMhXA2sX",
        "colab_type": "code",
        "colab": {
          "base_uri": "https://localhost:8080/",
          "height": 71
        },
        "outputId": "7a5c0c5e-9e51-4bcb-d9e3-131f99207261"
      },
      "source": [
        "import pandas as pd\n",
        "import numpy as np\n",
        "import random\n",
        "from fuzzywuzzy import fuzz\n",
        "from tqdm import tqdm\n",
        "from sklearn.utils import shuffle"
      ],
      "execution_count": 1,
      "outputs": [
        {
          "output_type": "stream",
          "text": [
            "/usr/local/lib/python3.6/dist-packages/fuzzywuzzy/fuzz.py:11: UserWarning: Using slow pure-python SequenceMatcher. Install python-Levenshtein to remove this warning\n",
            "  warnings.warn('Using slow pure-python SequenceMatcher. Install python-Levenshtein to remove this warning')\n"
          ],
          "name": "stderr"
        }
      ]
    },
    {
      "cell_type": "code",
      "metadata": {
        "id": "4_FXxDMYA2sh",
        "colab_type": "code",
        "colab": {}
      },
      "source": [
        "# negative sample from different product\n",
        "def generate_sample_different_product(question, filename, data):\n",
        "    C = data[data['filename'] == filename][data['Possible Questions'] == question]\n",
        "    C = C.reset_index(drop = True)\n",
        "    D = []\n",
        "    product_name = C['Product name'][0]\n",
        "    country = C['country'][0]\n",
        "    A = data[data['Product name'] != product_name]\n",
        "    B = A['Atom'].unique()\n",
        "    for b in B:\n",
        "        if fuzz.ratio(b, C['Atom'][0])>80:\n",
        "            B = np.setdiff1d(B, b)\n",
        "    c = len(B)\n",
        "    if c > 3:\n",
        "        randomlist = random.sample(range(0,c), 5)\n",
        "        D.append(B[randomlist[0]])\n",
        "        D.append(B[randomlist[1]])\n",
        "        D.append(B[randomlist[2]])\n",
        "        D.append(B[randomlist[3]])\n",
        "        D.append(B[randomlist[4]])\n",
        "        return D"
      ],
      "execution_count": 2,
      "outputs": []
    },
    {
      "cell_type": "code",
      "metadata": {
        "id": "636bgmSSA2sk",
        "colab_type": "code",
        "colab": {}
      },
      "source": [
        "# negative samples from same product and different country\n",
        "def generate_sample_same_product_different_country(question, filename, data):\n",
        "    C = data[data['filename'] == filename][data['Possible Questions'] == question]\n",
        "    C = C.reset_index(drop = True)\n",
        "    D = []\n",
        "    product_name = C['Product name'][0]\n",
        "    country = C['country'][0]\n",
        "    A = data[data['Product name'] == product_name][data['country'] != country]\n",
        "    B = A['Atom'].unique()\n",
        "    for b in B:\n",
        "        if fuzz.ratio(b, C['Atom'][0])>80:\n",
        "            B = np.setdiff1d(B, b)\n",
        "    c = len(B)\n",
        "    if c > 3:\n",
        "        randomlist = random.sample(range(0,c), 3)\n",
        "        D.append(B[randomlist[0]])\n",
        "        D.append(B[randomlist[1]])\n",
        "        D.append(B[randomlist[2]])\n",
        "        return D\n",
        "    elif c == 3:\n",
        "        D.append(B[0])\n",
        "        D.append(B[1])\n",
        "        D.append(B[2])\n",
        "        return D\n",
        "    elif c==2:\n",
        "        D.append(B[0])\n",
        "        D.append(B[1])\n",
        "        return D\n",
        "    else:\n",
        "        return D"
      ],
      "execution_count": 3,
      "outputs": []
    },
    {
      "cell_type": "code",
      "metadata": {
        "id": "SyyYVeExA2sp",
        "colab_type": "code",
        "colab": {}
      },
      "source": [
        "# negative samples from same product and same country\n",
        "def generate_sample_same_product_same_country(question, filename, data):\n",
        "    C = data[data['filename'] == filename][data['Possible Questions'] == question] #generate -ve atoms for this question\n",
        "    C = C.reset_index(drop = True)\n",
        "    D = [] #store -ve samples\n",
        "    E = [] #\n",
        "    F = [] #\n",
        "    product_name = C['Product name'][0] #product_name\n",
        "    country = C['country'][0] #country_name\n",
        "    A = data[data['Product name'] == product_name][data['country'] == country] #filter df for same product and same country\n",
        "    B = A['Atom'].unique() #unique atoms to be considered for generating -ve samples\n",
        "    for b in B:\n",
        "        if fuzz.ratio(b, C['Atom'][0])>80: #if unique atom and true atom is similar\n",
        "            B = np.setdiff1d(B, b) # ignore true atom from unique atom\n",
        "    c = len(B)\n",
        "    if c > 2:\n",
        "        randomlist = random.sample(range(0,c), 2) # indexes of -ve atoms\n",
        "        D.append(B[randomlist[0]])\n",
        "        D.append(B[randomlist[1]])\n",
        "        return D\n",
        "    elif c == 2:\n",
        "        D.append(B[0])\n",
        "        D.append(B[1])\n",
        "        return D\n",
        "    else:\n",
        "        return D"
      ],
      "execution_count": 4,
      "outputs": []
    },
    {
      "cell_type": "code",
      "metadata": {
        "id": "_7xei80BA2ss",
        "colab_type": "code",
        "colab": {}
      },
      "source": [
        "Answers = pd.read_excel('/content/KnowledgeBase_Phase_2_Clubbed_ATOMs_6_July.xlsx')"
      ],
      "execution_count": 5,
      "outputs": []
    },
    {
      "cell_type": "code",
      "metadata": {
        "id": "7FTrOq3tJeA8",
        "colab_type": "code",
        "colab": {}
      },
      "source": [
        "product = []\n",
        "country = []\n",
        "Atom = []\n",
        "question = []\n",
        "filename = []\n",
        "def split_question(a_string):\n",
        "  x = a_string.split('\\n')\n",
        "  a = []\n",
        "  for i in range(len(x)):\n",
        "    if x[i] !='':\n",
        "      a.append(x[i])\n",
        "  return a\n",
        "for i in range(Answers.shape[0]):\n",
        "  x = split_question(Answers['Possible Questions'][i])\n",
        "  for j in range(len(x)):\n",
        "    filename.append(Answers['filename'][i])\n",
        "    product.append(Answers['Product name'][i])\n",
        "    country.append(Answers['country'][i])\n",
        "    Atom.append(Answers['para_text'][i])\n",
        "    question.append(x[j])"
      ],
      "execution_count": 6,
      "outputs": []
    },
    {
      "cell_type": "code",
      "metadata": {
        "id": "47ofCDuGJf0D",
        "colab_type": "code",
        "colab": {}
      },
      "source": [
        "dataset = pd.DataFrame()\n",
        "dataset['filename'] = filename\n",
        "dataset['Product name'] = product\n",
        "dataset['country'] = country\n",
        "dataset['Atom'] = Atom\n",
        "dataset['Possible Questions'] = question"
      ],
      "execution_count": 7,
      "outputs": []
    },
    {
      "cell_type": "code",
      "metadata": {
        "id": "_OWVOFfpKBdU",
        "colab_type": "code",
        "colab": {}
      },
      "source": [
        "Answers = dataset"
      ],
      "execution_count": 8,
      "outputs": []
    },
    {
      "cell_type": "code",
      "metadata": {
        "id": "nRgDiMa7gCai",
        "colab_type": "code",
        "colab": {
          "base_uri": "https://localhost:8080/",
          "height": 34
        },
        "outputId": "31b94ac6-337c-4019-faad-a98e7e446528"
      },
      "source": [
        "Answers.shape"
      ],
      "execution_count": 9,
      "outputs": [
        {
          "output_type": "execute_result",
          "data": {
            "text/plain": [
              "(11449, 5)"
            ]
          },
          "metadata": {
            "tags": []
          },
          "execution_count": 9
        }
      ]
    },
    {
      "cell_type": "code",
      "metadata": {
        "id": "ALPhoUafX70y",
        "colab_type": "code",
        "colab": {}
      },
      "source": [
        "Answers = Answers.dropna()"
      ],
      "execution_count": 10,
      "outputs": []
    },
    {
      "cell_type": "code",
      "metadata": {
        "id": "utCGeZQ7YFbJ",
        "colab_type": "code",
        "colab": {}
      },
      "source": [
        "Answers = Answers.reset_index(drop=True)"
      ],
      "execution_count": 12,
      "outputs": []
    },
    {
      "cell_type": "code",
      "metadata": {
        "id": "gloYaupaG24P",
        "colab_type": "code",
        "colab": {}
      },
      "source": [
        "a = []\n",
        "b = []\n",
        "c = []\n",
        "d = []\n",
        "e = []"
      ],
      "execution_count": 13,
      "outputs": []
    },
    {
      "cell_type": "code",
      "metadata": {
        "id": "0XY_gHWQA2sw",
        "colab_type": "code",
        "colab": {}
      },
      "source": [
        "for i in tqdm(range(Answers.shape[0])):\n",
        "  for d1 in generate_sample_same_product_same_country(Answers['Possible Questions'][i], Answers['filename'][i], Answers):\n",
        "    a.append(d1)\n",
        "    b.append(Answers['Possible Questions'][i]) \n",
        "    c.append(Answers['Product name'][i])\n",
        "    d.append(Answers['country'][i])\n",
        "    e.append(Answers['Atom'][i]) "
      ],
      "execution_count": null,
      "outputs": []
    },
    {
      "cell_type": "code",
      "metadata": {
        "id": "NAL2xu3-MEP1",
        "colab_type": "code",
        "colab": {}
      },
      "source": [
        "a2 = []\n",
        "b2 = []\n",
        "c2 = []\n",
        "d2 = []\n",
        "e2 = []"
      ],
      "execution_count": null,
      "outputs": []
    },
    {
      "cell_type": "code",
      "metadata": {
        "id": "6edFDoU6KJlx",
        "colab_type": "code",
        "colab": {}
      },
      "source": [
        "for i in tqdm(range(Answers.shape[0])):\n",
        "  for d1 in generate_sample_same_product_different_country(Answers['Possible Questions'][i], Answers['filename'][i], Answers):\n",
        "    a2.append(d1)\n",
        "    b2.append(Answers['Possible Questions'][i]) \n",
        "    c2.append(Answers['Product name'][i])\n",
        "    d2.append(Answers['country'][i])\n",
        "    e2.append(Answers['Atom'][i])"
      ],
      "execution_count": null,
      "outputs": []
    },
    {
      "cell_type": "code",
      "metadata": {
        "id": "bbHL8LPWMOlV",
        "colab_type": "code",
        "colab": {}
      },
      "source": [
        ""
      ],
      "execution_count": null,
      "outputs": []
    },
    {
      "cell_type": "code",
      "metadata": {
        "id": "49oguWQ0KUFn",
        "colab_type": "code",
        "colab": {}
      },
      "source": [
        "for i in tqdm(range(Answers.shape[0])):\n",
        "  for d1 in generate_sample_different_product(Answers['Possible Questions'][i], Answers['filename'][i], Answers):\n",
        "    a3.append(d1)\n",
        "    b3.append(Answers['Possible Questions'][i]) \n",
        "    c3.append(Answers['Product name'][i])\n",
        "    d3.append(Answers['country'][i])\n",
        "    e3.append(Answers['Atom'][i])"
      ],
      "execution_count": null,
      "outputs": []
    },
    {
      "cell_type": "code",
      "metadata": {
        "id": "Y7cb6cBoA2ti",
        "colab_type": "code",
        "colab": {}
      },
      "source": [
        "len(Answer1),len(Question1),len(product1),len(country1),len(True_atom1)"
      ],
      "execution_count": null,
      "outputs": []
    },
    {
      "cell_type": "code",
      "metadata": {
        "id": "FT0-mX7fA2tl",
        "colab_type": "code",
        "colab": {}
      },
      "source": [
        "len(Answer2),len(Question2),len(product2),len(country2),len(True_atom2)"
      ],
      "execution_count": null,
      "outputs": []
    },
    {
      "cell_type": "code",
      "metadata": {
        "id": "el3SACjiA2tq",
        "colab_type": "code",
        "colab": {}
      },
      "source": [
        "len(Answer3),len(Question3),len(product3),len(country3),len(True_atom3)"
      ],
      "execution_count": null,
      "outputs": []
    },
    {
      "cell_type": "code",
      "metadata": {
        "id": "W8G5H-k_A2tt",
        "colab_type": "code",
        "colab": {}
      },
      "source": [
        "Answer = a+a2+a3\n",
        "Question = b+b2+b3\n",
        "product = c+c2+c3\n",
        "country = d+d2+d3\n",
        "True_atom = e+ e2+ e3"
      ],
      "execution_count": null,
      "outputs": []
    },
    {
      "cell_type": "code",
      "metadata": {
        "id": "DgwRnxGKA8HK",
        "colab_type": "code",
        "colab": {}
      },
      "source": [
        ""
      ],
      "execution_count": null,
      "outputs": []
    }
  ]
}